{
 "cells": [
  {
   "cell_type": "code",
   "execution_count": 1,
   "metadata": {},
   "outputs": [],
   "source": [
    "### Soru 1:\n",
    "\n",
    "## Bu dersimizde görmediğimiz fakat çok yaygın olarak kullanılan çizge türlerinden birisi de çubuk grafikleri (bar plot)'dir. \n",
    "## Çubuk grafikleri özellikle, kategorik (yani sınırlı sayıda farklı değer içeren) değişkenleri incelemek için yararlı araçlardır. \n",
    "## Bu ödevde, kategorik bir değişken içeren bir veri kümesi bulmanız gerekecek. \n",
    "## Bunun için Kaggle sitesindeki veri setlerine bir göz atabilirsiniz. \n",
    "## Daha sonra, bulduğunuz veri kümesini Pandas'ı kullanarak bir veri çerçevesine aktarın. \n",
    "## Veri kümenizde yer alan kategorik değişkenlerden iki tanesini seçin ve subplot kullanarak, bu iki değişkenin çubuk grafiklerini çıkarın. \n",
    "## Bulgularınızı mentörünüzle tartışmayı unutmayın!"
   ]
  },
  {
   "cell_type": "code",
   "execution_count": 4,
   "metadata": {},
   "outputs": [
    {
     "data": {
      "text/html": [
       "<div>\n",
       "<style scoped>\n",
       "    .dataframe tbody tr th:only-of-type {\n",
       "        vertical-align: middle;\n",
       "    }\n",
       "\n",
       "    .dataframe tbody tr th {\n",
       "        vertical-align: top;\n",
       "    }\n",
       "\n",
       "    .dataframe thead th {\n",
       "        text-align: right;\n",
       "    }\n",
       "</style>\n",
       "<table border=\"1\" class=\"dataframe\">\n",
       "  <thead>\n",
       "    <tr style=\"text-align: right;\">\n",
       "      <th></th>\n",
       "      <th>Unnamed: 0</th>\n",
       "      <th>Ulke</th>\n",
       "      <th>Nufus</th>\n",
       "      <th>Yasam Suresi</th>\n",
       "      <th>Toplam Gelir</th>\n",
       "      <th>Kita</th>\n",
       "      <th>Kisi_Basi_Gelir</th>\n",
       "      <th>Yil</th>\n",
       "    </tr>\n",
       "  </thead>\n",
       "  <tbody>\n",
       "    <tr>\n",
       "      <th>0</th>\n",
       "      <td>FR</td>\n",
       "      <td>Fransa</td>\n",
       "      <td>61083916</td>\n",
       "      <td>80.657</td>\n",
       "      <td>2.660000e+12</td>\n",
       "      <td>Avrupa</td>\n",
       "      <td>43501</td>\n",
       "      <td>2007</td>\n",
       "    </tr>\n",
       "    <tr>\n",
       "      <th>1</th>\n",
       "      <td>GE</td>\n",
       "      <td>Almanya</td>\n",
       "      <td>82400996</td>\n",
       "      <td>79.406</td>\n",
       "      <td>3.440000e+12</td>\n",
       "      <td>Avrupa</td>\n",
       "      <td>41746</td>\n",
       "      <td>2007</td>\n",
       "    </tr>\n",
       "    <tr>\n",
       "      <th>2</th>\n",
       "      <td>US</td>\n",
       "      <td>ABD</td>\n",
       "      <td>301139947</td>\n",
       "      <td>78.242</td>\n",
       "      <td>1.450000e+13</td>\n",
       "      <td>Amerika</td>\n",
       "      <td>48076</td>\n",
       "      <td>2007</td>\n",
       "    </tr>\n",
       "  </tbody>\n",
       "</table>\n",
       "</div>"
      ],
      "text/plain": [
       "  Unnamed: 0     Ulke      Nufus  Yasam Suresi  Toplam Gelir     Kita  \\\n",
       "0         FR   Fransa   61083916        80.657  2.660000e+12   Avrupa   \n",
       "1         GE  Almanya   82400996        79.406  3.440000e+12   Avrupa   \n",
       "2         US      ABD  301139947        78.242  1.450000e+13  Amerika   \n",
       "\n",
       "   Kisi_Basi_Gelir   Yil  \n",
       "0            43501  2007  \n",
       "1            41746  2007  \n",
       "2            48076  2007  "
      ]
     },
     "execution_count": 4,
     "metadata": {},
     "output_type": "execute_result"
    }
   ],
   "source": [
    "import matplotlib.pyplot as plt\n",
    "import numpy as np\n",
    "import pandas as pd\n",
    "df = pd.read_csv('Ulke_Bilgileri.csv')\n",
    "df"
   ]
  },
  {
   "cell_type": "code",
   "execution_count": 5,
   "metadata": {
    "scrolled": true
   },
   "outputs": [
    {
     "data": {
      "image/png": "[encoded data removed]",
      "text/plain": [
       "<Figure size 720x360 with 2 Axes>"
      ]
     },
     "metadata": {
      "needs_background": "light"
     },
     "output_type": "display_data"
    }
   ],
   "source": [
    "plt.figure(figsize=(10, 5))\n",
    "\n",
    "plt.subplot(1, 2, 1)\n",
    "plt.bar(df['Ulke'],  df['Nufus'], align='center', alpha=0.5, color='green')\n",
    "plt.ylabel('Nufus')\n",
    "plt.title('Ulkelerin nufus bilgisi:')\n",
    "\n",
    "\n",
    "plt.subplot(1, 2, 2)\n",
    "plt.bar(df['Ulke'],  df['Kisi_Basi_Gelir'], align='center', alpha=0.5, color='purple')\n",
    "plt.ylabel('Gelir')\n",
    "plt.title('Ulkelerin kisi basi gelir bilgisi:')\n",
    "\n",
    "plt.tight_layout()\n",
    "plt.show()"
   ]
  },
  {
   "cell_type": "code",
   "execution_count": null,
   "metadata": {},
   "outputs": [],
   "source": []
  }
 ],
 "metadata": {
  "kernelspec": {
   "display_name": "Python 3",
   "language": "python",
   "name": "python3"
  },
  "language_info": {
   "codemirror_mode": {
    "name": "ipython",
    "version": 3
   },
   "file_extension": ".py",
   "mimetype": "text/x-python",
   "name": "python",
   "nbconvert_exporter": "python",
   "pygments_lexer": "ipython3",
   "version": "3.7.3"
  }
 },
 "nbformat": 4,
 "nbformat_minor": 2
}
