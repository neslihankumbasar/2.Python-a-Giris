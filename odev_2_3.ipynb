{
 "cells": [
  {
   "cell_type": "code",
   "execution_count": 1,
   "metadata": {},
   "outputs": [],
   "source": [
    "### Soru 1: İçerisinde 7 günün bulunduğu bir sözlük oluşturun. \n",
    "## Kullanıcıya günleri listeleyerek 2 farklı gün seçmesini isteyin (örneğin pazartesi ve salı için \"12\" gibi). \n",
    "## Kullanıcının seçtiği günleri sözlükten silerek kalan 5 günü ekrana yazdırın."
   ]
  },
  {
   "cell_type": "code",
   "execution_count": 29,
   "metadata": {},
   "outputs": [
    {
     "data": {
      "text/plain": [
       "{'1': 'pazartesi',\n",
       " '2': 'sali',\n",
       " '3': 'carsamba',\n",
       " '4': 'persembe',\n",
       " '5': 'cuma',\n",
       " '6': 'cumartesi',\n",
       " '7': 'pazar'}"
      ]
     },
     "execution_count": 29,
     "metadata": {},
     "output_type": "execute_result"
    }
   ],
   "source": [
    "gunler={\"1\":\"pazartesi\" , \"2\":\"sali\", \"3\":\"carsamba\", \"4\":\"persembe\", \"5\":\"cuma\" , \"6\":\"cumartesi\", \"7\":\"pazar\"}\n",
    "gunler"
   ]
  },
  {
   "cell_type": "code",
   "execution_count": 30,
   "metadata": {},
   "outputs": [
    {
     "name": "stdout",
     "output_type": "stream",
     "text": [
      "Gun seciniz:27\n",
      "27\n"
     ]
    }
   ],
   "source": [
    "secim= input(\"Gun seciniz:\")\n",
    "print(secim)"
   ]
  },
  {
   "cell_type": "code",
   "execution_count": 31,
   "metadata": {},
   "outputs": [],
   "source": [
    "del gunler[secim[0]]\n",
    "del gunler[secim[1]]"
   ]
  },
  {
   "cell_type": "code",
   "execution_count": 32,
   "metadata": {},
   "outputs": [
    {
     "name": "stdout",
     "output_type": "stream",
     "text": [
      "{'1': 'pazartesi', '3': 'carsamba', '4': 'persembe', '5': 'cuma', '6': 'cumartesi'}\n"
     ]
    }
   ],
   "source": [
    "print(gunler)"
   ]
  },
  {
   "cell_type": "code",
   "execution_count": 33,
   "metadata": {},
   "outputs": [],
   "source": [
    "### Soru 2: \n",
    "## Ayların kaç gün çektiğini karıştırabiliyoruz. \n",
    "## Bunun için bir liste oluşturun ancak listenizde ay isimleri ve gün sayıları beraber bulunsun \n",
    "## (ipucu: listenizin içinde başka bir veri yapısı yer alacak!)."
   ]
  },
  {
   "cell_type": "code",
   "execution_count": 54,
   "metadata": {},
   "outputs": [
    {
     "name": "stdout",
     "output_type": "stream",
     "text": [
      "[('Ocak', 31), ('Şubat', 28), ('Mart', 31), ('Nisan', 30), ('Mayıs', 31), ('Haziran', 30), ('Temmuz', 31), ('Ağustos', 31), ('Eylül', 30), ('Ekim', 31), ('Kasım', 30), ('Aralık', 31)]\n"
     ]
    }
   ],
   "source": [
    "aylar =  {'Ocak' : 31 , 'Şubat': 28, 'Mart':31, 'Nisan':30, 'Mayıs':31, 'Haziran':30, 'Temmuz':31, \n",
    "         'Ağustos':31, 'Eylül':30, 'Ekim':31, 'Kasım':30, 'Aralık':31}\n",
    "print(list(aylar.items()))"
   ]
  },
  {
   "cell_type": "code",
   "execution_count": 72,
   "metadata": {},
   "outputs": [],
   "source": [
    "### Soru 3: \n",
    "## Bilgileri bir önceki listeden alan başka bir ay listesi oluşturun. \n",
    "## Bu kez ayları günlerle birlikte listenin içinde iki ayrı listede tutun."
   ]
  },
  {
   "cell_type": "code",
   "execution_count": 73,
   "metadata": {},
   "outputs": [
    {
     "name": "stdout",
     "output_type": "stream",
     "text": [
      "[['Ocak', 'Şubat', 'Mart', 'Nisan', 'Mayıs', 'Haziran', 'Temmuz', 'Ağustos', 'Eylül', 'Ekim', 'Kasım', 'Aralık'], [31, 28, 31, 30, 31, 30, 31, 31, 30, 31, 30, 31]]\n"
     ]
    }
   ],
   "source": [
    "ay=list(aylar.keys())\n",
    "gun=list(aylar.values())\n",
    "aylar_gunler=[ay,gun]\n",
    "print(aylar_gunler)"
   ]
  },
  {
   "cell_type": "code",
   "execution_count": 74,
   "metadata": {},
   "outputs": [],
   "source": [
    "### Soru 4: \n",
    "## Şimdi ise mevsim mevsim ayrılmış ay listeleri oluşturun. Liste adlarına mevsimlerin adlarını verin."
   ]
  },
  {
   "cell_type": "code",
   "execution_count": 79,
   "metadata": {},
   "outputs": [
    {
     "name": "stdout",
     "output_type": "stream",
     "text": [
      "sonbahar :  [['Eylül', 'Ekim', 'Kasım'], [30, 31, 30]]\n",
      "kis :  [['Aralık', 'Ocak', 'Şubat'], [31, 31, 28]]\n",
      "ilkbahar :  [['Mart', 'Nisan', 'Mayıs'], [31, 30, 31]]\n",
      "yaz :  [['Haziran', 'Temmuz', 'Ağustos'], [30, 31, 31]]\n"
     ]
    }
   ],
   "source": [
    "sonbahar=[[\"Eylül\",\"Ekim\",\"Kasım\"],[30, 31, 30]]\n",
    "kis=[[\"Aralık\",\"Ocak\",\"Şubat\"],[31,31,28]]\n",
    "ilkbahar=[[\"Mart\",\"Nisan\",\"Mayıs\"],[31, 30, 31]]\n",
    "yaz=[[\"Haziran\",\"Temmuz\",\"Ağustos\"],[30, 31, 31]]\n",
    "print(\"sonbahar : \", sonbahar)\n",
    "print(\"kis : \",kis)\n",
    "print(\"ilkbahar : \",ilkbahar)\n",
    "print(\"yaz : \",yaz)"
   ]
  },
  {
   "cell_type": "code",
   "execution_count": 80,
   "metadata": {},
   "outputs": [],
   "source": [
    "### soru 4:\n",
    "## Son olarak, bir önceki sorudaki listeden yaz ayının kaç gün sürdüğünü hesaplayın."
   ]
  },
  {
   "cell_type": "code",
   "execution_count": 88,
   "metadata": {},
   "outputs": [
    {
     "name": "stdout",
     "output_type": "stream",
     "text": [
      "Yaz mevsimi,  92 gundur\n"
     ]
    }
   ],
   "source": [
    "toplam=yaz[1][0]+yaz[1][1]+yaz[1][2]\n",
    "print(\"Yaz mevsimi, \", toplam , \"gundur\")"
   ]
  },
  {
   "cell_type": "code",
   "execution_count": null,
   "metadata": {},
   "outputs": [],
   "source": []
  }
 ],
 "metadata": {
  "kernelspec": {
   "display_name": "Python 3",
   "language": "python",
   "name": "python3"
  },
  "language_info": {
   "codemirror_mode": {
    "name": "ipython",
    "version": 3
   },
   "file_extension": ".py",
   "mimetype": "text/x-python",
   "name": "python",
   "nbconvert_exporter": "python",
   "pygments_lexer": "ipython3",
   "version": "3.7.3"
  }
 },
 "nbformat": 4,
 "nbformat_minor": 2
}
