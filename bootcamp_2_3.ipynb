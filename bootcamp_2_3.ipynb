{
 "cells": [
  {
   "cell_type": "code",
   "execution_count": 3,
   "metadata": {},
   "outputs": [
    {
     "name": "stdout",
     "output_type": "stream",
     "text": [
      "['Ocak', 'Subat', 'Mart', 'Nisan', 'Mayis', 'Haziran', 'Temmuz', 'Agustos', 'Eylul', 'Ekim', 'Kasim', 'Aralik']\n",
      "[88, 76, 56, 45, 98, 92, 65, 25, 36, 79]\n"
     ]
    }
   ],
   "source": [
    "aylar=['Ocak','Subat','Mart','Nisan','Mayis','Haziran','Temmuz','Agustos','Eylul','Ekim','Kasim','Aralik']\n",
    "notlar=[88, 76, 56, 45, 98, 92, 65, 25, 36, 79]\n",
    "\n",
    "print(aylar)\n",
    "print(notlar)"
   ]
  },
  {
   "cell_type": "code",
   "execution_count": 5,
   "metadata": {},
   "outputs": [
    {
     "data": {
      "text/plain": [
       "['Hello', 42, 3.14, True, None]"
      ]
     },
     "execution_count": 5,
     "metadata": {},
     "output_type": "execute_result"
    }
   ],
   "source": [
    "liste=['Hello',42,3.14,True,None]\n",
    "liste"
   ]
  },
  {
   "cell_type": "code",
   "execution_count": 6,
   "metadata": {},
   "outputs": [
    {
     "name": "stdout",
     "output_type": "stream",
     "text": [
      "['Mart', 'Nisan', 'Mayis']\n",
      "['Haziran', 'Temmuz', 'Agustos']\n",
      "['Eylul', 'Ekim', 'Kasim']\n",
      "['Aralik', 'Ocak', 'Subat']\n"
     ]
    }
   ],
   "source": [
    "mevsim_aylari=[['Mart', 'Nisan', 'Mayis'],['Haziran','Temmuz','Agustos'],['Eylul','Ekim','Kasim'],['Aralik','Ocak','Subat']]\n",
    "print(mevsim_aylari[0])\n",
    "print(mevsim_aylari[1])\n",
    "print(mevsim_aylari[2])\n",
    "print(mevsim_aylari[3])"
   ]
  },
  {
   "cell_type": "code",
   "execution_count": 7,
   "metadata": {},
   "outputs": [],
   "source": [
    "bos_liste=[]\n",
    "harfler=['a','b','c','d']"
   ]
  },
  {
   "cell_type": "code",
   "execution_count": 10,
   "metadata": {},
   "outputs": [
    {
     "name": "stdout",
     "output_type": "stream",
     "text": [
      "[]\n",
      "['a', 'b', 'c', 'd']\n",
      "[0, 1, 2, 3, 4, 5, 6, 7, 8, 9]\n"
     ]
    }
   ],
   "source": [
    "bos_liste=list()\n",
    "harfler=list(('a','b','c','d'))\n",
    "sayilar=list(range(10))\n",
    "\n",
    "print(bos_liste,harfler,sayilar, sep='\\n')"
   ]
  },
  {
   "cell_type": "code",
   "execution_count": 13,
   "metadata": {},
   "outputs": [
    {
     "name": "stdout",
     "output_type": "stream",
     "text": [
      "Ocak\n",
      "['Nisan', 'Mayis', 'Haziran', 'Temmuz']\n",
      "['Temmuz', 'Agustos', 'Eylul', 'Ekim', 'Kasim', 'Aralik']\n"
     ]
    }
   ],
   "source": [
    "print(aylar[0])\n",
    "print(aylar[3:7])\n",
    "print(aylar[6:])"
   ]
  },
  {
   "cell_type": "code",
   "execution_count": 14,
   "metadata": {},
   "outputs": [
    {
     "name": "stdout",
     "output_type": "stream",
     "text": [
      "12\n"
     ]
    }
   ],
   "source": [
    "print(len(aylar))"
   ]
  },
  {
   "cell_type": "code",
   "execution_count": 15,
   "metadata": {},
   "outputs": [
    {
     "name": "stdout",
     "output_type": "stream",
     "text": [
      "['Ocak', 'Subat', 'Mart', 'Nisan', 'Mayis', 'Haziran', 'Temmuz', 'Agustos']\n"
     ]
    }
   ],
   "source": [
    "print(aylar[:-4])"
   ]
  },
  {
   "cell_type": "code",
   "execution_count": 16,
   "metadata": {},
   "outputs": [
    {
     "name": "stdout",
     "output_type": "stream",
     "text": [
      "['Ocak', 'Nisan', 'Temmuz', 'Ekim']\n"
     ]
    }
   ],
   "source": [
    "print(aylar[0:12:3])"
   ]
  },
  {
   "cell_type": "code",
   "execution_count": 19,
   "metadata": {},
   "outputs": [
    {
     "name": "stdout",
     "output_type": "stream",
     "text": [
      "c :  [1, 3, 5, 6, 8, 9]\n",
      "d :  [1, 6, 8, 9, 9]\n"
     ]
    }
   ],
   "source": [
    "a=[1,3,5]\n",
    "b=[6,8,9]\n",
    "c=a+b\n",
    "d=[a[0]]+b+[b[2]]\n",
    "print(\"c : \",c)\n",
    "print(\"d : \",d)"
   ]
  },
  {
   "cell_type": "code",
   "execution_count": 21,
   "metadata": {},
   "outputs": [
    {
     "name": "stdout",
     "output_type": "stream",
     "text": [
      "['Ocak', 'Subat', 'Mart', 'Nisan', 'Mayis', 'Haziran', 'Temmuz', 'Agustos', 'Eylul', 'Ekim', 'Kasim', 'Aralik', 'Yeni ay', 'Yeni ay']\n"
     ]
    }
   ],
   "source": [
    "aylar.append(\"Yeni ay\")\n",
    "print(aylar)"
   ]
  },
  {
   "cell_type": "code",
   "execution_count": 23,
   "metadata": {},
   "outputs": [
    {
     "name": "stdout",
     "output_type": "stream",
     "text": [
      "['1.Ay', '2.Ay', 'Mart', 'Nisan', 'Mayis', 'Haziran', 'Temmuz', 'Agustos', 'Eylul', 'Ekim', 'Kasim', 'Aralik', 'Yeni ay', 'Yeni ay']\n"
     ]
    }
   ],
   "source": [
    "aylar[0:2]=[\"1.Ay\",\"2.Ay\"]\n",
    "print(aylar)"
   ]
  },
  {
   "cell_type": "code",
   "execution_count": 24,
   "metadata": {},
   "outputs": [
    {
     "data": {
      "text/plain": [
       "[0, 1, 2, 3, [10, 11], 5, 6, 7, 8, 9]"
      ]
     },
     "execution_count": 24,
     "metadata": {},
     "output_type": "execute_result"
    }
   ],
   "source": [
    "listem=[0,1,2,3,4,5,6,7,8,9]\n",
    "listem[4]=[10,11]\n",
    "listem"
   ]
  },
  {
   "cell_type": "code",
   "execution_count": 25,
   "metadata": {},
   "outputs": [
    {
     "data": {
      "text/plain": [
       "[0, 1, 4, 5, 6, 7, 8, 9]"
      ]
     },
     "execution_count": 25,
     "metadata": {},
     "output_type": "execute_result"
    }
   ],
   "source": [
    "listem=[0,1,2,3,4,5,6,7,8,9]\n",
    "del(listem[2:4])\n",
    "listem"
   ]
  },
  {
   "cell_type": "code",
   "execution_count": 26,
   "metadata": {},
   "outputs": [
    {
     "data": {
      "text/plain": [
       "['a', 'b', 'c', 'd', 'e']"
      ]
     },
     "execution_count": 26,
     "metadata": {},
     "output_type": "execute_result"
    }
   ],
   "source": [
    "harfler=['a','b','c','d']\n",
    "harfler.append('e')\n",
    "harfler"
   ]
  },
  {
   "cell_type": "code",
   "execution_count": 27,
   "metadata": {},
   "outputs": [
    {
     "data": {
      "text/plain": [
       "['bir', 'iki', 'iki bucuk', 'uc']"
      ]
     },
     "execution_count": 27,
     "metadata": {},
     "output_type": "execute_result"
    }
   ],
   "source": [
    "sayilar=['bir','iki','uc']\n",
    "sayilar.insert(2,'iki bucuk')\n",
    "sayilar"
   ]
  },
  {
   "cell_type": "code",
   "execution_count": 29,
   "metadata": {},
   "outputs": [
    {
     "data": {
      "text/plain": [
       "['Odayi duzelt', 'Ders calis']"
      ]
     },
     "execution_count": 29,
     "metadata": {},
     "output_type": "execute_result"
    }
   ],
   "source": [
    "gorevler=['Odayi duzelt','Ders calis','Alisveris yap']\n",
    "gorevler.pop()\n",
    "gorevler"
   ]
  },
  {
   "cell_type": "code",
   "execution_count": 28,
   "metadata": {},
   "outputs": [
    {
     "data": {
      "text/plain": [
       "2"
      ]
     },
     "execution_count": 28,
     "metadata": {},
     "output_type": "execute_result"
    }
   ],
   "source": [
    "aylar=['Ocak','Subat','Mart','Nisan','Mayis','Haziran','Temmuz','Agustos','Eylul','Ekim','Kasim','Aralik']\n",
    "aylar.index('Mart')"
   ]
  },
  {
   "cell_type": "code",
   "execution_count": 32,
   "metadata": {},
   "outputs": [
    {
     "name": "stdout",
     "output_type": "stream",
     "text": [
      "['Agustos', 'Aralik', 'Ekim', 'Eylul', 'Haziran', 'Kasim', 'Mart', 'Mayis', 'Nisan', 'Ocak', 'Subat', 'Temmuz']\n",
      "['Temmuz', 'Subat', 'Ocak', 'Nisan', 'Mayis', 'Mart', 'Kasim', 'Haziran', 'Eylul', 'Ekim', 'Aralik', 'Agustos']\n"
     ]
    }
   ],
   "source": [
    "aylar.sort()\n",
    "print(aylar)\n",
    "aylar.sort(reverse=True)\n",
    "print(aylar)"
   ]
  },
  {
   "cell_type": "code",
   "execution_count": 34,
   "metadata": {},
   "outputs": [
    {
     "name": "stdout",
     "output_type": "stream",
     "text": [
      "12/1/2017\n"
     ]
    }
   ],
   "source": [
    "listem=[\"12\",\"1\",\"2017\"]\n",
    "tarih=\"/\".join(listem)\n",
    "print(tarih)"
   ]
  },
  {
   "cell_type": "code",
   "execution_count": 37,
   "metadata": {},
   "outputs": [
    {
     "name": "stdout",
     "output_type": "stream",
     "text": [
      "['a', 'b', 'd', 'e', 'f']\n",
      "['a', 'd', 'e', 'f']\n"
     ]
    }
   ],
   "source": [
    "listem=[\"a\",\"b\",\"c\",\"d\",\"e\",\"f\"]\n",
    "listem.remove(\"c\")\n",
    "print(listem)\n",
    "listem.remove(listem[1])\n",
    "print(listem)"
   ]
  },
  {
   "cell_type": "code",
   "execution_count": 38,
   "metadata": {},
   "outputs": [
    {
     "name": "stdout",
     "output_type": "stream",
     "text": [
      "['a', 'b', 'c', 'd', 'e', 'f', 'a', 'b', 'c', 'd', 'e', 'f', 'a', 'b', 'c', 'd', 'e', 'f']\n"
     ]
    }
   ],
   "source": [
    "listem=[\"a\",\"b\",\"c\",\"d\",\"e\",\"f\"]\n",
    "listem=listem*3\n",
    "print(listem)"
   ]
  },
  {
   "cell_type": "code",
   "execution_count": 42,
   "metadata": {},
   "outputs": [
    {
     "name": "stdout",
     "output_type": "stream",
     "text": [
      "[['Mart', 'Nisan', 'Mayis'], ['Haziran', 'Temmuz', 'Agustos'], ['Eylul', 'Ekim', 'Kasim'], ['Aralik', 'Ocak', 'Subat']]\n",
      "['Eylul', 'Ekim', 'Kasim']\n",
      "Ekim\n"
     ]
    }
   ],
   "source": [
    "ilkbahar=['Mart', 'Nisan', 'Mayis']\n",
    "yaz=['Haziran','Temmuz','Agustos']\n",
    "sonbahar=['Eylul','Ekim','Kasim']\n",
    "kis=['Aralik','Ocak','Subat']\n",
    "mevsim_aylari=[ilkbahar,yaz,sonbahar,kis]\n",
    "print(mevsim_aylari)\n",
    "print(mevsim_aylari[2])\n",
    "print(mevsim_aylari[2][1])"
   ]
  },
  {
   "cell_type": "code",
   "execution_count": 43,
   "metadata": {},
   "outputs": [
    {
     "name": "stdout",
     "output_type": "stream",
     "text": [
      "[[]]\n"
     ]
    }
   ],
   "source": [
    "bos_liste=[[]]\n",
    "print(bos_liste)"
   ]
  },
  {
   "cell_type": "code",
   "execution_count": 44,
   "metadata": {},
   "outputs": [
    {
     "name": "stdout",
     "output_type": "stream",
     "text": [
      "{'english': 'hello', 'japanese': 'こんにちは', 'german': 'hallo', 'hindi': 'नमस्ते', 'leet': 'h3ll0'}\n"
     ]
    }
   ],
   "source": [
    "greetings = {\n",
    "        \"english\": \"hello\",\n",
    "        \"japanese\": \"こんにちは\",\n",
    "        \"german\": \"hallo\",\n",
    "        \"hindi\": \"नमस्ते\",\n",
    "        \"leet\": \"h3ll0\" }\n",
    "\n",
    "print(greetings)"
   ]
  },
  {
   "cell_type": "code",
   "execution_count": 45,
   "metadata": {},
   "outputs": [
    {
     "name": "stdout",
     "output_type": "stream",
     "text": [
      "{}\n"
     ]
    }
   ],
   "source": [
    "bos_sozluk={}\n",
    "print(bos_sozluk)"
   ]
  },
  {
   "cell_type": "code",
   "execution_count": 60,
   "metadata": {},
   "outputs": [
    {
     "name": "stdout",
     "output_type": "stream",
     "text": [
      "10\n",
      "dict_items([('elma', 6), ('portakal', 10), ('muz', 7.5), ('cilek', 5)]) \n",
      "\n",
      "dict_keys(['elma', 'portakal', 'muz', 'cilek']) \n",
      "\n",
      "dict_values([6, 10, 7.5, 5]) \n",
      "\n"
     ]
    }
   ],
   "source": [
    "meyve_fiyatlari={\"elma\": 6 , \"portakal\":10, \"muz\":7.5, \"cilek\":5}\n",
    "print(meyve_fiyatlari[\"portakal\"])\n",
    "\n",
    "print(meyve_fiyatlari.items(),'\\n')\n",
    "print(meyve_fiyatlari.keys(),'\\n')\n",
    "print(meyve_fiyatlari.values(),'\\n')"
   ]
  },
  {
   "cell_type": "code",
   "execution_count": 61,
   "metadata": {},
   "outputs": [
    {
     "name": "stdout",
     "output_type": "stream",
     "text": [
      "[('elma', 6), ('portakal', 10), ('muz', 7.5), ('cilek', 5)] \n",
      "\n",
      "['elma', 'portakal', 'muz', 'cilek'] \n",
      "\n",
      "[6, 10, 7.5, 5] \n",
      "\n"
     ]
    }
   ],
   "source": [
    "print(list(meyve_fiyatlari.items()),'\\n')\n",
    "print(list(meyve_fiyatlari.keys()),'\\n')\n",
    "print(list(meyve_fiyatlari.values()),'\\n')"
   ]
  },
  {
   "cell_type": "code",
   "execution_count": 62,
   "metadata": {},
   "outputs": [
    {
     "name": "stdout",
     "output_type": "stream",
     "text": [
      "{'elma': 6, 'portakal': 10, 'muz': 7.5, 'cilek': 5, 'armut': 4, 'uzum': 4.5}\n"
     ]
    }
   ],
   "source": [
    "meyve_fiyatlari[\"armut\"]=4\n",
    "meyve_fiyatlari.update({\"uzum\":4.5})\n",
    "print(meyve_fiyatlari)"
   ]
  },
  {
   "cell_type": "code",
   "execution_count": 63,
   "metadata": {},
   "outputs": [
    {
     "name": "stdout",
     "output_type": "stream",
     "text": [
      "{'elma': 6, 'portakal': 10, 'cilek': 5, 'armut': 4, 'uzum': 4.5}\n"
     ]
    }
   ],
   "source": [
    "del meyve_fiyatlari[\"muz\"]\n",
    "print(meyve_fiyatlari)"
   ]
  },
  {
   "cell_type": "code",
   "execution_count": 64,
   "metadata": {},
   "outputs": [
    {
     "name": "stdout",
     "output_type": "stream",
     "text": [
      "{'kişisel_bilgi': {'çocuk': {'ali': {'okul': 'ortaokul', 'yaş': 12}, 'ayse': {'okul': 'lise', 'yaş': 16}}}} \n",
      "\n",
      "12\n"
     ]
    }
   ],
   "source": [
    "bank_records={\n",
    "    \"kişisel_bilgi\": {\n",
    "        \"çocuk\":{\"ali\": {\"okul\":\"ortaokul\", \"yaş\":12},\n",
    "                \"ayse\": {\"okul\":\"lise\", \"yaş\":16}\n",
    "               }\n",
    "                \n",
    "    },\n",
    "}\n",
    "print(bank_records,'\\n')\n",
    "\n",
    "print(bank_records[\"kişisel_bilgi\"][\"çocuk\"][\"ali\"][\"yaş\"])"
   ]
  },
  {
   "cell_type": "code",
   "execution_count": 66,
   "metadata": {},
   "outputs": [
    {
     "data": {
      "text/plain": [
       "{'Türkiye': ['İstanbul', 'Ankara', 'İzmir'],\n",
       " 'İspanya': ['Madrid', 'Barselona']}"
      ]
     },
     "execution_count": 66,
     "metadata": {},
     "output_type": "execute_result"
    }
   ],
   "source": [
    "buyuk_sehirler = {'Türkiye' : [\"İstanbul\", \"Ankara\", \"İzmir\"], 'İspanya': ['Madrid', \"Barselona\"]}\n",
    "buyuk_sehirler"
   ]
  },
  {
   "cell_type": "code",
   "execution_count": 68,
   "metadata": {},
   "outputs": [
    {
     "name": "stdout",
     "output_type": "stream",
     "text": [
      "Indeks:  1 \n",
      "\n",
      "Count:  3\n"
     ]
    }
   ],
   "source": [
    "my_tuple=(1,4,3,4,5,6,7,4)\n",
    "my_tuple\n",
    "print(\"Indeks: \", my_tuple.index(4),'\\n')\n",
    "print(\"Count: \", my_tuple.count(4))"
   ]
  },
  {
   "cell_type": "code",
   "execution_count": 71,
   "metadata": {},
   "outputs": [
    {
     "name": "stdout",
     "output_type": "stream",
     "text": [
      "<class 'list'> [1, 4, 3, 4, 5, 6, 7, 4]\n"
     ]
    }
   ],
   "source": [
    "my_tuple=(1,4,3,4,5,6,7,4)\n",
    "my_list=list(my_tuple)\n",
    "print(type(my_list),my_list)"
   ]
  },
  {
   "cell_type": "code",
   "execution_count": 73,
   "metadata": {},
   "outputs": [
    {
     "name": "stdout",
     "output_type": "stream",
     "text": [
      "<class 'tuple'> (1, 4, 3, 4, 5, 6, 7, 4)\n"
     ]
    }
   ],
   "source": [
    "my_tuple=tuple(my_list)\n",
    "print(type(my_tuple),my_tuple)"
   ]
  },
  {
   "cell_type": "code",
   "execution_count": 74,
   "metadata": {},
   "outputs": [
    {
     "name": "stdout",
     "output_type": "stream",
     "text": [
      "set()\n"
     ]
    }
   ],
   "source": [
    "bos_kume=set()\n",
    "print(bos_kume)"
   ]
  },
  {
   "cell_type": "code",
   "execution_count": 75,
   "metadata": {},
   "outputs": [
    {
     "name": "stdout",
     "output_type": "stream",
     "text": [
      "{'armut', 'vişne', 'kiraz', 'elma', 'portakal'}\n",
      "<class 'set'>\n"
     ]
    }
   ],
   "source": [
    "meyveler = set(['elma', 'armut', 'portakal','kiraz', 'vişne'])\n",
    "print(meyveler)\n",
    "print(type(meyveler))"
   ]
  },
  {
   "cell_type": "code",
   "execution_count": 76,
   "metadata": {},
   "outputs": [
    {
     "name": "stdout",
     "output_type": "stream",
     "text": [
      "{'c', 'a', 'm', 'e', 'V', 'l', 't', 'r', 'o', 'p', ' ', 'B', 'i'}\n"
     ]
    }
   ],
   "source": [
    "karakterler = \"Veri Bilimi Bootcamp\"\n",
    "küme = set(karakterler)\n",
    "print(küme)"
   ]
  },
  {
   "cell_type": "code",
   "execution_count": null,
   "metadata": {},
   "outputs": [],
   "source": []
  }
 ],
 "metadata": {
  "kernelspec": {
   "display_name": "Python 3",
   "language": "python",
   "name": "python3"
  },
  "language_info": {
   "codemirror_mode": {
    "name": "ipython",
    "version": 3
   },
   "file_extension": ".py",
   "mimetype": "text/x-python",
   "name": "python",
   "nbconvert_exporter": "python",
   "pygments_lexer": "ipython3",
   "version": "3.7.3"
  }
 },
 "nbformat": 4,
 "nbformat_minor": 2
}
