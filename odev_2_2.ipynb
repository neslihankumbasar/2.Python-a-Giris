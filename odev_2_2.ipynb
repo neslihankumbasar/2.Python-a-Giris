{
 "cells": [
  {
   "cell_type": "code",
   "execution_count": 1,
   "metadata": {},
   "outputs": [],
   "source": [
    "### Soru 1: \n",
    "## Bitcoin'in iyi kazandırdığı 2017 yılı sonunda yatırım yaptığınızı farz edelim. \n",
    "## Günlük ortalama %12 artan bitcoine 1000$ yatırmış olsaydınız bir hafta sonunda paranız ne kadar olurdu? \n",
    "## Lütfen problemi Python kullanarak çözün."
   ]
  },
  {
   "cell_type": "code",
   "execution_count": 8,
   "metadata": {},
   "outputs": [
    {
     "name": "stdout",
     "output_type": "stream",
     "text": [
      "Toplam param :  1002.3333333333334 olurdu\n"
     ]
    }
   ],
   "source": [
    "A=1000\n",
    "n=12\n",
    "t=7\n",
    "F = (A*n*t)/36000\n",
    "F\n",
    "\n",
    "print(\"Toplam param : \", A + float(F) , \"olurdu\")"
   ]
  },
  {
   "cell_type": "code",
   "execution_count": 9,
   "metadata": {},
   "outputs": [],
   "source": [
    "### Soru 2 : \n",
    "## Tırnak içindeki metni Python ile yazdırın. \n",
    "## Ancak rakamlar değişkenlerden gelmeli. \n",
    "## Metin uzun olduğu için iki satıra yazmayı düşünebilirsiniz: \n",
    "## \"Hafta başında 1000 dolarlık bitcoin aldığımızda günde ortalama %12 kazançla, bir hafta sonunda 1210.68 dolar kazanırdık\""
   ]
  },
  {
   "cell_type": "code",
   "execution_count": 14,
   "metadata": {},
   "outputs": [
    {
     "name": "stdout",
     "output_type": "stream",
     "text": [
      "Hafta basinda 1000 dolarlik bitcoin aldigimizda gunde ortalama %12 kazancla, \n",
      "bir hafta sonunda 1210.68 dolar kazanirdik\n"
     ]
    }
   ],
   "source": [
    "anapara=1000\n",
    "yuzde=12\n",
    "toplam=1210.68\n",
    "print(\"\"\"Hafta basinda {} dolarlik bitcoin aldigimizda gunde ortalama %{} kazancla, \n",
    "bir hafta sonunda {} dolar kazanirdik\"\"\".format(anapara, yuzde,toplam))"
   ]
  },
  {
   "cell_type": "code",
   "execution_count": 15,
   "metadata": {},
   "outputs": [],
   "source": [
    "### Soru 3: \n",
    "## Kullanıcıdan dosya adını alan ve bu dosya adına \"py\" uzantısı ekleyerek ekrana yazdıran bir kod yazınız."
   ]
  },
  {
   "cell_type": "code",
   "execution_count": 16,
   "metadata": {},
   "outputs": [
    {
     "name": "stdout",
     "output_type": "stream",
     "text": [
      "Dosya ismini giriniz : bootcamp2_2\n",
      "Dosya ismi:  bootcamp2_2.py\n"
     ]
    }
   ],
   "source": [
    "dosya= input(\"Dosya ismini giriniz : \")\n",
    "print(\"Dosya ismi: \", dosya+\".py\")"
   ]
  },
  {
   "cell_type": "code",
   "execution_count": null,
   "metadata": {},
   "outputs": [],
   "source": []
  }
 ],
 "metadata": {
  "kernelspec": {
   "display_name": "Python 3",
   "language": "python",
   "name": "python3"
  },
  "language_info": {
   "codemirror_mode": {
    "name": "ipython",
    "version": 3
   },
   "file_extension": ".py",
   "mimetype": "text/x-python",
   "name": "python",
   "nbconvert_exporter": "python",
   "pygments_lexer": "ipython3",
   "version": "3.7.3"
  }
 },
 "nbformat": 4,
 "nbformat_minor": 2
}
