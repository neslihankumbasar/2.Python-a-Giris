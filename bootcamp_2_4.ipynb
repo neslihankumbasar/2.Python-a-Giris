{
 "cells": [
  {
   "cell_type": "code",
   "execution_count": 1,
   "metadata": {},
   "outputs": [
    {
     "name": "stdout",
     "output_type": "stream",
     "text": [
      "Sayi 5 ten buyuktur\n"
     ]
    }
   ],
   "source": [
    "sayi=6\n",
    "if sayi>5:\n",
    "    print(\"Sayi 5 ten buyuktur\")"
   ]
  },
  {
   "cell_type": "code",
   "execution_count": 5,
   "metadata": {},
   "outputs": [
    {
     "name": "stdout",
     "output_type": "stream",
     "text": [
      "Bugun tatil !!\n"
     ]
    }
   ],
   "source": [
    "bugun=\"Pazar\"\n",
    "if bugun==\"Pazar\":\n",
    "    print(\"Bugun tatil !!\")"
   ]
  },
  {
   "cell_type": "code",
   "execution_count": 6,
   "metadata": {},
   "outputs": [
    {
     "name": "stdout",
     "output_type": "stream",
     "text": [
      "Sinavda basarili\n"
     ]
    }
   ],
   "source": [
    "sinav_basarisi=True\n",
    "if sinav_basarisi:\n",
    "    print(\"Sinavda basarili\")"
   ]
  },
  {
   "cell_type": "code",
   "execution_count": 8,
   "metadata": {},
   "outputs": [
    {
     "name": "stdout",
     "output_type": "stream",
     "text": [
      "Sayi 5 ten kucuktur\n"
     ]
    }
   ],
   "source": [
    "sayi=2\n",
    "if sayi>5:\n",
    "    print(\"Sayi 5 ten buyuktur\")\n",
    "elif sayi<5:\n",
    "    print(\"Sayi 5 ten kucuktur\")"
   ]
  },
  {
   "cell_type": "code",
   "execution_count": 10,
   "metadata": {},
   "outputs": [
    {
     "name": "stdout",
     "output_type": "stream",
     "text": [
      "Sayi 5 ten buyuk degildir.\n"
     ]
    }
   ],
   "source": [
    "sayi=2\n",
    "if sayi>5:\n",
    "    print(\"Sayi 5 ten buyuktur.\")\n",
    "else:\n",
    "    print(\"Sayi 5 ten buyuk degildir.\")"
   ]
  },
  {
   "cell_type": "code",
   "execution_count": 14,
   "metadata": {},
   "outputs": [
    {
     "name": "stdout",
     "output_type": "stream",
     "text": [
      "Sayi giriniz: 8\n",
      "Sayi 10 dan kucuktur.\n"
     ]
    }
   ],
   "source": [
    "sayi=int(input(\"Sayi giriniz: \"))\n",
    "if sayi>10:\n",
    "    print(\"Sayi 10 dan buyuktur.\")\n",
    "elif sayi<10:\n",
    "    print(\"Sayi 10 dan kucuktur.\")\n",
    "else:\n",
    "    print(\"Sayi 10 a esittir.\")"
   ]
  },
  {
   "cell_type": "code",
   "execution_count": 15,
   "metadata": {},
   "outputs": [
    {
     "name": "stdout",
     "output_type": "stream",
     "text": [
      "a degiskeni 1 den buyuktur.\n",
      "c --> True\n"
     ]
    }
   ],
   "source": [
    "a = 2\n",
    "b = a>1\n",
    "c = 6>5\n",
    "d = a>3\n",
    "if b or c:\n",
    "    print(\"a degiskeni 1 den buyuktur.\")\n",
    "    if b*c:\n",
    "        print (\"c --> True\")\n",
    "elif d:\n",
    "    print(\"a 1 den buyuk degildir\")\n",
    "elif c:\n",
    "    print(\"a degiskeni 5 ten buyuk degil\")\n",
    "else:\n",
    "    print(\"a degiskeni 0 a esit\")"
   ]
  },
  {
   "cell_type": "code",
   "execution_count": 17,
   "metadata": {},
   "outputs": [
    {
     "name": "stdout",
     "output_type": "stream",
     "text": [
      "Sinav notunu giriniz:92\n",
      "Not karsiligi : A\n"
     ]
    }
   ],
   "source": [
    "sinav_notu=int(input(\"Sinav notunu giriniz:\"))\n",
    "if sinav_notu>90:\n",
    "    if sinav_notu>95:\n",
    "        harf=\"A++\"\n",
    "    else:\n",
    "        harf=\"A\"\n",
    "elif sinav_notu>80:\n",
    "    if sinav_notu>85:\n",
    "        harf=\"B+\"\n",
    "    else:\n",
    "        harf=\"B\"\n",
    "else:\n",
    "    harf=\"B alti\"\n",
    "print(\"Not karsiligi : %s\" %harf)    "
   ]
  },
  {
   "cell_type": "code",
   "execution_count": 20,
   "metadata": {},
   "outputs": [
    {
     "name": "stdout",
     "output_type": "stream",
     "text": [
      "Merhaba Ahmet\n",
      "Merhaba Ayse\n",
      "Merhaba Mert\n"
     ]
    }
   ],
   "source": [
    "isimler=[\"Ahmet\",\"Ayse\",\"Mert\"]\n",
    "for isim in isimler:\n",
    "    selam=\"Merhaba \" +isim\n",
    "    print(selam)"
   ]
  },
  {
   "cell_type": "code",
   "execution_count": 21,
   "metadata": {},
   "outputs": [
    {
     "name": "stdout",
     "output_type": "stream",
     "text": [
      "Herkese Merhaba\n",
      "Herkese Merhaba\n",
      "Herkese Merhaba\n"
     ]
    }
   ],
   "source": [
    "isimler=[\"Ahmet\",\"Ayse\",\"Mert\"]\n",
    "for isim in isimler:\n",
    "    print(\"Herkese Merhaba\")"
   ]
  },
  {
   "cell_type": "code",
   "execution_count": 22,
   "metadata": {},
   "outputs": [
    {
     "name": "stdout",
     "output_type": "stream",
     "text": [
      "Z\n",
      "u\n",
      "c\n",
      "c\n",
      "a\n",
      "c\n",
      "i\n",
      "y\n",
      "e\n"
     ]
    }
   ],
   "source": [
    "for karakter in \"Zuccaciye\":\n",
    "    print(karakter)\n"
   ]
  },
  {
   "cell_type": "code",
   "execution_count": 27,
   "metadata": {},
   "outputs": [
    {
     "name": "stdout",
     "output_type": "stream",
     "text": [
      "n= 0 \n",
      "n= 1 \n",
      "n= 2 \n",
      "n= 3 \n",
      "n= 4 \n",
      "n= 5 \n",
      "n= 6 \n",
      "n= 7 \n",
      "n= 8 \n",
      "n= 9 \n"
     ]
    }
   ],
   "source": [
    "for n in range(10):\n",
    "    print(\"n= {} \".format(n))"
   ]
  },
  {
   "cell_type": "code",
   "execution_count": 28,
   "metadata": {},
   "outputs": [
    {
     "name": "stdout",
     "output_type": "stream",
     "text": [
      "isim\n",
      "soyisim\n",
      "yas\n"
     ]
    }
   ],
   "source": [
    "kullanici={\"isim\":\"nes\", \"soyisim\":\"kum\", \"yas\":34}\n",
    "for nitelik in kullanici:\n",
    "    print(nitelik)"
   ]
  },
  {
   "cell_type": "code",
   "execution_count": 29,
   "metadata": {},
   "outputs": [
    {
     "name": "stdout",
     "output_type": "stream",
     "text": [
      "nes kum 34 "
     ]
    }
   ],
   "source": [
    "for x in kullanici.values():\n",
    "    print(x, end=\" \")"
   ]
  },
  {
   "cell_type": "code",
   "execution_count": 32,
   "metadata": {},
   "outputs": [
    {
     "name": "stdout",
     "output_type": "stream",
     "text": [
      "isim  : nes\n",
      "soyisim  : kum\n",
      "yas  : 34\n"
     ]
    }
   ],
   "source": [
    "for key,value in kullanici.items():\n",
    "    print(key,\" :\",value)"
   ]
  },
  {
   "cell_type": "code",
   "execution_count": 35,
   "metadata": {},
   "outputs": [
    {
     "name": "stdout",
     "output_type": "stream",
     "text": [
      "[0, 2, 4, 6, 8]\n",
      "[1, 3, 5, 7, 9]\n"
     ]
    }
   ],
   "source": [
    "cift_rakamlar=[]\n",
    "tek_rakamlar=[]\n",
    "for n in range(10):\n",
    "    if n%2==0:\n",
    "        cift_rakamlar.append(n)\n",
    "    else:\n",
    "        tek_rakamlar.append(n)\n",
    "print(cift_rakamlar)\n",
    "print(tek_rakamlar)"
   ]
  },
  {
   "cell_type": "code",
   "execution_count": 38,
   "metadata": {},
   "outputs": [
    {
     "name": "stdout",
     "output_type": "stream",
     "text": [
      "0\n",
      "1\n",
      "2\n",
      "3\n",
      "4\n",
      "5\n",
      "6\n",
      "7\n"
     ]
    }
   ],
   "source": [
    "for x in set(range(8)):\n",
    "    print(x)"
   ]
  },
  {
   "cell_type": "code",
   "execution_count": 41,
   "metadata": {},
   "outputs": [
    {
     "data": {
      "text/plain": [
       "[0, 1, 2, 3, 4, 5, 6, 7, 8, 9]"
      ]
     },
     "execution_count": 41,
     "metadata": {},
     "output_type": "execute_result"
    }
   ],
   "source": [
    "list(range(10))"
   ]
  },
  {
   "cell_type": "code",
   "execution_count": 43,
   "metadata": {},
   "outputs": [
    {
     "name": "stdout",
     "output_type": "stream",
     "text": [
      "0 1 2 3 4 5 6 7 8 9\n"
     ]
    }
   ],
   "source": [
    "print(*range(10))"
   ]
  },
  {
   "cell_type": "code",
   "execution_count": 44,
   "metadata": {},
   "outputs": [
    {
     "name": "stdout",
     "output_type": "stream",
     "text": [
      "3 5 7 9 11 13 15 17 19\n"
     ]
    }
   ],
   "source": [
    "print(*range(3,20,2))"
   ]
  },
  {
   "cell_type": "code",
   "execution_count": 45,
   "metadata": {},
   "outputs": [
    {
     "name": "stdout",
     "output_type": "stream",
     "text": [
      "10 8 6 4 2\n"
     ]
    }
   ],
   "source": [
    "print(*range(10,0,-2))"
   ]
  },
  {
   "cell_type": "code",
   "execution_count": 46,
   "metadata": {},
   "outputs": [
    {
     "name": "stdout",
     "output_type": "stream",
     "text": [
      "a 1\n",
      "b 2\n",
      "c 3\n",
      "d 4\n",
      "e 5\n"
     ]
    }
   ],
   "source": [
    "harfler=[\"a\",\"b\",\"c\",\"d\",\"e\"]\n",
    "rakamlar=[1,2,3,4,5]\n",
    "for x,y in zip(harfler,rakamlar):\n",
    "    print(x,y)"
   ]
  },
  {
   "cell_type": "code",
   "execution_count": 51,
   "metadata": {},
   "outputs": [
    {
     "name": "stdout",
     "output_type": "stream",
     "text": [
      "5050\n"
     ]
    }
   ],
   "source": [
    "## 1'den 100'e kadar olan sayıların toplamını bulalım\n",
    "toplam=0\n",
    "for x in range(1,101):\n",
    "    toplam+=x\n",
    "print(toplam)"
   ]
  },
  {
   "cell_type": "code",
   "execution_count": 52,
   "metadata": {},
   "outputs": [
    {
     "name": "stdout",
     "output_type": "stream",
     "text": [
      "1 2 3 5 7 11 13 17 19 23 29 31 37 41 43 47 53 59 61 67 71 73 79 83 89 97 "
     ]
    }
   ],
   "source": [
    "## 1'den 100'e kadar olan asal sayıları yazdıralım\n",
    "for x in range(1,101):\n",
    "    count=0\n",
    "    if x<=2:\n",
    "        print(x, end=\" \")\n",
    "    elif x%2!=0:\n",
    "        for y in range(2,x//2):\n",
    "            if(x%y)==0:\n",
    "                count+=1\n",
    "        if count==0:       \n",
    "            print(x, end=\" \")"
   ]
  },
  {
   "cell_type": "code",
   "execution_count": 57,
   "metadata": {},
   "outputs": [
    {
     "name": "stdout",
     "output_type": "stream",
     "text": [
      "Cift sayilarin adeti:  5\n",
      "Tek sayilarin adeti:  4\n"
     ]
    }
   ],
   "source": [
    "## Verilen bir liste ya da demet içerisindeki tek ve çift sayıların adedini yazdiralim\n",
    "sayilar = (13, 26, 33, 44, 59, 61, 72, 86, 90) \n",
    "tek_adet=0\n",
    "cift_adet=0\n",
    "for x in sayilar:\n",
    "    if  x%2==0:\n",
    "        cift_adet+=1\n",
    "    else:\n",
    "        tek_adet+=1\n",
    "print(\"Cift sayilarin adeti: \",cift_adet)\n",
    "print(\"Tek sayilarin adeti: \",tek_adet)\n",
    "        \n"
   ]
  },
  {
   "cell_type": "code",
   "execution_count": 62,
   "metadata": {},
   "outputs": [
    {
     "name": "stdout",
     "output_type": "stream",
     "text": [
      "1\n",
      "22\n",
      "333\n",
      "4444\n",
      "55555\n",
      "666666\n",
      "7777777\n",
      "88888888\n",
      "999999999\n"
     ]
    }
   ],
   "source": [
    "## For döngüsü kullanarak 1'den 9'a kadar olan sayıları kendi adedince yazdıralım\n",
    "for x in range(1,10):\n",
    "    print(str(x)*x)"
   ]
  },
  {
   "cell_type": "code",
   "execution_count": 64,
   "metadata": {},
   "outputs": [
    {
     "name": "stdout",
     "output_type": "stream",
     "text": [
      "x : 0\n",
      "x : 1\n",
      "x : 2\n",
      "x : 3\n",
      "x : 4\n"
     ]
    }
   ],
   "source": [
    "x=0\n",
    "while x<5:\n",
    "    print(\"x :\",x)\n",
    "    x+=1"
   ]
  },
  {
   "cell_type": "code",
   "execution_count": 65,
   "metadata": {},
   "outputs": [
    {
     "name": "stdout",
     "output_type": "stream",
     "text": [
      "0\n",
      "1\n",
      "4\n",
      "9\n",
      "16\n",
      "25\n"
     ]
    }
   ],
   "source": [
    "my_list=[\"a\",\"b\",\"c\",\"d\",\"e\",\"f\"]\n",
    "x=0\n",
    "while x<len(my_list):\n",
    "    print(x**2)\n",
    "    x+=1"
   ]
  },
  {
   "cell_type": "code",
   "execution_count": 1,
   "metadata": {},
   "outputs": [
    {
     "name": "stdout",
     "output_type": "stream",
     "text": [
      "Luften yasinizi giriniz:s3\n",
      "Hatali giris giriniz.\n",
      "Luften yasinizi giriniz:34\n",
      "Gecerli bir yas girdiniz..\n"
     ]
    }
   ],
   "source": [
    "yas=input(\"Luften yasinizi giriniz:\")\n",
    "while not yas.isdigit():\n",
    "    print(\"Hatali giris giriniz.\")\n",
    "    yas=input(\"Luften yasinizi giriniz:\")\n",
    "print(\"Gecerli bir yas girdiniz..\")    "
   ]
  },
  {
   "cell_type": "code",
   "execution_count": 3,
   "metadata": {},
   "outputs": [
    {
     "name": "stdout",
     "output_type": "stream",
     "text": [
      "Tahmininizi giriniz:36\n",
      "Yanlis tahmin!! Daha buyuk sayi giriniz.\n",
      "Tahmininizi giriniz:180\n",
      "Yanlis tahmin!! Daha kucuk sayi giriniz.\n",
      "Tahmininizi giriniz:123\n",
      " Bravo!!! 3 deneme sonunda bildiniz...\n"
     ]
    }
   ],
   "source": [
    "hedef=123\n",
    "sayac=1\n",
    "a=input(\"Tahmininizi giriniz:\")\n",
    "\n",
    "while not a.isdigit():\n",
    "    print(\"Tahmininizi giriniz:\")\n",
    "while int(a)!=hedef:\n",
    "    if int(a)<hedef:\n",
    "        print(\"Yanlis tahmin!! Daha buyuk sayi giriniz.\")\n",
    "    else:\n",
    "        print(\"Yanlis tahmin!! Daha kucuk sayi giriniz.\")\n",
    "    a=input(\"Tahmininizi giriniz:\")    \n",
    "    while not a.isdigit():\n",
    "        a=input(\"Tahmininizi giriniz:\")    \n",
    "    sayac+=1 \n",
    "print (\" Bravo!!! %d deneme sonunda bildiniz...\" %sayac)      "
   ]
  },
  {
   "cell_type": "code",
   "execution_count": 7,
   "metadata": {},
   "outputs": [
    {
     "name": "stdout",
     "output_type": "stream",
     "text": [
      "1 4 9 16 25 36 49 64 81 100\n",
      "1 4 9 16 25 36 49 64 81 100\n"
     ]
    }
   ],
   "source": [
    "birinci_liste=[]\n",
    "for x in range(1,11):\n",
    "    birinci_liste.append(x**2)\n",
    "print(*birinci_liste)    \n",
    "\n",
    "ikinci_liste=[x**2 for x in range(1,11)]\n",
    "print(*ikinci_liste)"
   ]
  },
  {
   "cell_type": "code",
   "execution_count": 11,
   "metadata": {},
   "outputs": [
    {
     "name": "stdout",
     "output_type": "stream",
     "text": [
      "4 16 36 64 100\n"
     ]
    }
   ],
   "source": [
    "yeni_liste=[x**2 for x in range(1,11) if  x%2==0]\n",
    "print(*yeni_liste)"
   ]
  },
  {
   "cell_type": "code",
   "execution_count": 12,
   "metadata": {},
   "outputs": [
    {
     "name": "stdout",
     "output_type": "stream",
     "text": [
      "[1, 4, 27, 16, 125, 36, 343, 64, 729, 100]\n"
     ]
    }
   ],
   "source": [
    "yeni_liste=[x**2 if x%2==0 else x**3 for x in range(1,11)]\n",
    "print(yeni_liste)"
   ]
  },
  {
   "cell_type": "code",
   "execution_count": 13,
   "metadata": {},
   "outputs": [
    {
     "name": "stdout",
     "output_type": "stream",
     "text": [
      "[[1, 2, 3, 4, 5, 6, 7, 8, 9, 10], [1, 2, 3, 4, 5, 6, 7, 8, 9, 10], [1, 2, 3, 4, 5, 6, 7, 8, 9, 10], [1, 2, 3, 4, 5, 6, 7, 8, 9, 10], [1, 2, 3, 4, 5, 6, 7, 8, 9, 10], [1, 2, 3, 4, 5, 6, 7, 8, 9, 10], [1, 2, 3, 4, 5, 6, 7, 8, 9, 10], [1, 2, 3, 4, 5, 6, 7, 8, 9, 10], [1, 2, 3, 4, 5, 6, 7, 8, 9, 10], [1, 2, 3, 4, 5, 6, 7, 8, 9, 10]]\n"
     ]
    }
   ],
   "source": [
    "print([[x for x in range(1,11)] for y in range(10)])"
   ]
  },
  {
   "cell_type": "code",
   "execution_count": 15,
   "metadata": {},
   "outputs": [
    {
     "name": "stdout",
     "output_type": "stream",
     "text": [
      "1 2 3 4 5 6 7 8 9 10 "
     ]
    }
   ],
   "source": [
    "nested_list=[[1,2,3,4,5],[6,7,8,9,10]]\n",
    "for inner_list in nested_list:\n",
    "    for item  in inner_list:\n",
    "        print(item, end=\" \")"
   ]
  },
  {
   "cell_type": "code",
   "execution_count": 17,
   "metadata": {},
   "outputs": [
    {
     "name": "stdout",
     "output_type": "stream",
     "text": [
      "[1, 2, 3, 4, 5, 6, 7, 8, 9, 10]\n"
     ]
    }
   ],
   "source": [
    "items=[item for inner_list in nested_list for item in inner_list]\n",
    "print(items)"
   ]
  },
  {
   "cell_type": "code",
   "execution_count": 18,
   "metadata": {},
   "outputs": [
    {
     "name": "stdout",
     "output_type": "stream",
     "text": [
      "{'c': 6}\n"
     ]
    }
   ],
   "source": [
    "d = {'a':1,'b':2,'c':3}\n",
    "d = {key:value*2 for (key,value) in d.items() if value > 2}\n",
    "\n",
    "print(d)"
   ]
  },
  {
   "cell_type": "code",
   "execution_count": 20,
   "metadata": {},
   "outputs": [
    {
     "data": {
      "text/plain": [
       "{0: 0, 1: 1, 2: 8, 3: 27, 4: 64, 5: 125, 6: 216, 7: 343, 8: 512, 9: 729}"
      ]
     },
     "execution_count": 20,
     "metadata": {},
     "output_type": "execute_result"
    }
   ],
   "source": [
    "{x: x**3 for x in range(10)}"
   ]
  },
  {
   "cell_type": "code",
   "execution_count": null,
   "metadata": {},
   "outputs": [],
   "source": []
  }
 ],
 "metadata": {
  "kernelspec": {
   "display_name": "Python 3",
   "language": "python",
   "name": "python3"
  },
  "language_info": {
   "codemirror_mode": {
    "name": "ipython",
    "version": 3
   },
   "file_extension": ".py",
   "mimetype": "text/x-python",
   "name": "python",
   "nbconvert_exporter": "python",
   "pygments_lexer": "ipython3",
   "version": "3.7.3"
  }
 },
 "nbformat": 4,
 "nbformat_minor": 2
}
