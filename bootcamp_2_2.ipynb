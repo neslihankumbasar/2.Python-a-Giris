{
 "cells": [
  {
   "cell_type": "code",
   "execution_count": 3,
   "metadata": {},
   "outputs": [
    {
     "name": "stdout",
     "output_type": "stream",
     "text": [
      "Dairenin cevresi :  25.12 cm\n"
     ]
    }
   ],
   "source": [
    "pi=3.14\n",
    "r=4\n",
    "print(\"Dairenin cevresi : \", 2*pi*r, 'cm')"
   ]
  },
  {
   "cell_type": "code",
   "execution_count": 5,
   "metadata": {},
   "outputs": [
    {
     "name": "stdout",
     "output_type": "stream",
     "text": [
      "Merhaba, benim adim neslihan kumbasar\n"
     ]
    }
   ],
   "source": [
    "isim=\"neslihan\"\n",
    "soyisim=\"kumbasar\"\n",
    "print(\"Merhaba, benim adim\" ,isim,soyisim)"
   ]
  },
  {
   "cell_type": "code",
   "execution_count": 6,
   "metadata": {},
   "outputs": [
    {
     "data": {
      "text/plain": [
       "45"
      ]
     },
     "execution_count": 6,
     "metadata": {},
     "output_type": "execute_result"
    }
   ],
   "source": [
    "print=15\n",
    "3*print"
   ]
  },
  {
   "cell_type": "code",
   "execution_count": 7,
   "metadata": {},
   "outputs": [],
   "source": [
    "del print"
   ]
  },
  {
   "cell_type": "code",
   "execution_count": 8,
   "metadata": {},
   "outputs": [
    {
     "data": {
      "text/plain": [
       "<function print>"
      ]
     },
     "execution_count": 8,
     "metadata": {},
     "output_type": "execute_result"
    }
   ],
   "source": [
    "print"
   ]
  },
  {
   "cell_type": "code",
   "execution_count": 9,
   "metadata": {},
   "outputs": [
    {
     "name": "stdout",
     "output_type": "stream",
     "text": [
      "31 28 31 30 31 30 31 31 30 31 30 31\n"
     ]
    }
   ],
   "source": [
    "Ocak = Mart = Mayıs = Temmuz = Ağustos = Ekim = Aralık = 31\n",
    "Nisan = Haziran = Eylül = Kasım = 30\n",
    "Şubat = 28\n",
    "print (Ocak, Şubat, Mart, Nisan, Mayıs, Haziran, Temmuz, Ağustos, Eylül, Ekim, Kasım, Aralık)"
   ]
  },
  {
   "cell_type": "code",
   "execution_count": 11,
   "metadata": {},
   "outputs": [
    {
     "name": "stdout",
     "output_type": "stream",
     "text": [
      "Sinav notunun tipi:  <class 'int'>\n",
      "Sinav notu degiskeninin degeri: 42\n"
     ]
    }
   ],
   "source": [
    "sinav_notu=42\n",
    "print(\"Sinav notunun tipi: \", type(sinav_notu))\n",
    "print(\"Sinav notu degiskeninin degeri:\", sinav_notu)"
   ]
  },
  {
   "cell_type": "code",
   "execution_count": 12,
   "metadata": {},
   "outputs": [
    {
     "name": "stdout",
     "output_type": "stream",
     "text": [
      "Sinav otunun tipi: <class 'str'>\n",
      "Sinav notunun degeri:  kirkiki\n"
     ]
    }
   ],
   "source": [
    "sinav_notu=\"kirkiki\"\n",
    "print(\"Sinav otunun tipi:\", type(sinav_notu))\n",
    "print(\"Sinav notunun degeri: \", sinav_notu)"
   ]
  },
  {
   "cell_type": "code",
   "execution_count": 14,
   "metadata": {},
   "outputs": [
    {
     "name": "stdout",
     "output_type": "stream",
     "text": [
      "Sinav otunun tipi: <class 'bool'>\n",
      "Sinav notunun degeri:  False\n"
     ]
    }
   ],
   "source": [
    "sinav_basarisi=False\n",
    "print(\"Sinav otunun tipi:\", type(sinav_basarisi))\n",
    "print(\"Sinav notunun degeri: \", sinav_basarisi)"
   ]
  },
  {
   "cell_type": "code",
   "execution_count": 23,
   "metadata": {},
   "outputs": [
    {
     "name": "stdout",
     "output_type": "stream",
     "text": [
      "15 ve 22 sayisinin toplami :  37\n",
      "22 ve 15 sayilarinin farki :  7\n",
      "15 ve 22 sayilarinin carpimi :  330\n",
      "9'un karesi :  81\n",
      "4 uzeri 3 :  64\n"
     ]
    }
   ],
   "source": [
    "toplam=15+22\n",
    "print(\"15 ve 22 sayisinin toplami : \",toplam)\n",
    "\n",
    "fark=22-15\n",
    "print(\"22 ve 15 sayilarinin farki : \",fark)\n",
    "\n",
    "carpim=15*22\n",
    "print(\"15 ve 22 sayilarinin carpimi : \", carpim)    \n",
    "\n",
    "kare= 9**2\n",
    "print(\"9'un karesi : \", kare)\n",
    "\n",
    "kuvvet=4**3\n",
    "print(\"4 uzeri 3 : \", kuvvet)"
   ]
  },
  {
   "cell_type": "code",
   "execution_count": 24,
   "metadata": {},
   "outputs": [
    {
     "name": "stdout",
     "output_type": "stream",
     "text": [
      "130'un 11'e bölümü (Tek / ile)  : 65.0\n",
      "130'un 11'e bölümü (Çift // ile): 65\n",
      "25'in 7'ye bölümünden kalan     : 4\n"
     ]
    }
   ],
   "source": [
    "bolum = 130/2  \n",
    "print(\"130'un 11'e bölümü (Tek / ile)  :\", bolum)\n",
    "ciftli_bolum = 130//2  \n",
    "print(\"130'un 11'e bölümü (Çift // ile):\", ciftli_bolum)\n",
    "\n",
    "kalan = 25%7\n",
    "print(\"25'in 7'ye bölümünden kalan     :\", kalan)"
   ]
  },
  {
   "cell_type": "code",
   "execution_count": 25,
   "metadata": {},
   "outputs": [
    {
     "name": "stdout",
     "output_type": "stream",
     "text": [
      "3*(2+3) = 15\n",
      "3*2**3  = 24\n",
      "3*2+3   = 9\n"
     ]
    }
   ],
   "source": [
    "print (\"3*(2+3) =\"  , 3*(2+3))\n",
    "print (\"3*2**3  =\"  , 3*2**3)\n",
    "print (\"3*2+3   =\"  , 3*2+3)"
   ]
  },
  {
   "cell_type": "code",
   "execution_count": 29,
   "metadata": {},
   "outputs": [
    {
     "name": "stdout",
     "output_type": "stream",
     "text": [
      "x degeri :  5\n",
      "x'in 2 fazlasi :  7 \n",
      "\n",
      "y degeri :  10\n",
      "y'nin 2 eksigi :  8 \n",
      "\n",
      "z degeri :  6\n",
      "z'nin 2 kati :  12 \n",
      "\n"
     ]
    }
   ],
   "source": [
    "x=5\n",
    "print(\"x degeri : \", x)\n",
    "x+=2\n",
    "print(\"x'in 2 fazlasi : \", x , \"\\n\")\n",
    "\n",
    "y=10\n",
    "print(\"y degeri : \",y)\n",
    "y-=2\n",
    "print(\"y'nin 2 eksigi : \",y, \"\\n\")\n",
    "\n",
    "z=6\n",
    "print(\"z degeri : \",z)\n",
    "z*=2\n",
    "print(\"z'nin 2 kati : \", z, \"\\n\")"
   ]
  },
  {
   "cell_type": "code",
   "execution_count": 30,
   "metadata": {},
   "outputs": [
    {
     "name": "stdout",
     "output_type": "stream",
     "text": [
      "cilek ve domates\n"
     ]
    }
   ],
   "source": [
    "meyve=\"cilek\"\n",
    "sebze=\"domates\"\n",
    "print(meyve,\"ve\",sebze)"
   ]
  },
  {
   "cell_type": "code",
   "execution_count": 31,
   "metadata": {},
   "outputs": [
    {
     "data": {
      "text/plain": [
       "str"
      ]
     },
     "execution_count": 31,
     "metadata": {},
     "output_type": "execute_result"
    }
   ],
   "source": [
    "type(meyve)"
   ]
  },
  {
   "cell_type": "code",
   "execution_count": 38,
   "metadata": {},
   "outputs": [
    {
     "name": "stdout",
     "output_type": "stream",
     "text": [
      "Kelime :  cilek\n",
      "Ilk harf :  c\n",
      "ikinci harf :  i\n",
      "3 ile 5 inci harf :  lek\n",
      "3 uncu harften sonrasi :  lek\n"
     ]
    }
   ],
   "source": [
    "print(\"Kelime : \", meyve)\n",
    "print(\"Ilk harf : \", meyve[0])\n",
    "print(\"ikinci harf : \", meyve[1])\n",
    "print(\"3 ile 5 inci harf : \", meyve[2:5])\n",
    "print(\"3 uncu harften sonrasi : \", meyve[2:])"
   ]
  },
  {
   "cell_type": "code",
   "execution_count": 40,
   "metadata": {},
   "outputs": [
    {
     "name": "stdout",
     "output_type": "stream",
     "text": [
      "cilek kelimesinin uzunlugu : 5\n"
     ]
    }
   ],
   "source": [
    "print(meyve,\"kelimesinin uzunlugu :\", len(meyve))"
   ]
  },
  {
   "cell_type": "code",
   "execution_count": 43,
   "metadata": {},
   "outputs": [
    {
     "name": "stdout",
     "output_type": "stream",
     "text": [
      "+ isareti ile :  cilekdomates\n",
      "* isareti ile :  cilekcilek\n"
     ]
    }
   ],
   "source": [
    "print(\"+ isareti ile : \", meyve+sebze)\n",
    "print(\"* isareti ile : \", 2*meyve)"
   ]
  },
  {
   "cell_type": "code",
   "execution_count": 45,
   "metadata": {},
   "outputs": [
    {
     "name": "stdout",
     "output_type": "stream",
     "text": [
      "Aldigimiz toplam cilek miktari 15 kilogramdir.\n"
     ]
    }
   ],
   "source": [
    "miktar=15\n",
    "metin=\"Aldigimiz toplam {} miktari {} kilogramdir.\"\n",
    "print(metin.format(meyve,miktar))"
   ]
  },
  {
   "cell_type": "code",
   "execution_count": 48,
   "metadata": {},
   "outputs": [
    {
     "name": "stdout",
     "output_type": "stream",
     "text": [
      "3.142857142857143\n",
      "Pi sayisi (3.14) dairenin cevresinin capina oranidir.\n"
     ]
    }
   ],
   "source": [
    "pi=22/7\n",
    "print(pi)\n",
    "print(\"Pi sayisi ({:.2f}) dairenin cevresinin capina oranidir.\" .format(pi))"
   ]
  },
  {
   "cell_type": "code",
   "execution_count": 54,
   "metadata": {},
   "outputs": [
    {
     "name": "stdout",
     "output_type": "stream",
     "text": [
      "6 ayda veri bilimcisi olacagiz\n"
     ]
    }
   ],
   "source": [
    "print(\"{1} {3} {0} {2}\".format(\"veri bilimcisi\",6,\"olacagiz\",\"ayda\"))"
   ]
  },
  {
   "cell_type": "code",
   "execution_count": 57,
   "metadata": {},
   "outputs": [
    {
     "name": "stdout",
     "output_type": "stream",
     "text": [
      "Benim hayatm Merhaba dunya 35 \n",
      "Benim hayatim Merhaba dunya 35.00 \n"
     ]
    }
   ],
   "source": [
    "output=\"Benim hayatm %s %s %d \" % (\"Merhaba\", \"dunya\", 35)\n",
    "print(output)\n",
    "\n",
    "output2= \"Benim hayatim %s %s %.2f \" % (\"Merhaba\", \"dunya\", 35)\n",
    "print(output2)"
   ]
  },
  {
   "cell_type": "code",
   "execution_count": 58,
   "metadata": {},
   "outputs": [
    {
     "name": "stdout",
     "output_type": "stream",
     "text": [
      "Adiniz : neslihan\n",
      "Yasiniz : 34\n",
      "Adiniz neslihan ve 34 yasindasiniz.\n"
     ]
    }
   ],
   "source": [
    "ad= input(\"Adiniz : \")\n",
    "yas= input(\"Yasiniz : \")\n",
    "print(\"Adiniz {} ve {} yasindasiniz.\".format(ad,yas))"
   ]
  },
  {
   "cell_type": "code",
   "execution_count": 59,
   "metadata": {},
   "outputs": [
    {
     "name": "stdout",
     "output_type": "stream",
     "text": [
      "a'nın değeri                       : 8\n",
      "b'nin değeri                       : 10\n",
      "a ve b eşit mi?              (a==b): False\n",
      "a ve b eşit değil mi?        (a!=b): True\n",
      "a b'den küçük mü?             (a<b): True\n",
      "a b'den büyük mü?             (a>b): False\n",
      "a b'den küçük ya da eşit mi? (a<=b): True\n",
      "a b'den büyük ya da eşit mi? (a>=b): False\n"
     ]
    }
   ],
   "source": [
    "a = 8\n",
    "b = 10\n",
    "print (\"a'nın değeri                       :\" , a)\n",
    "print (\"b'nin değeri                       :\" , b)\n",
    "print (\"a ve b eşit mi?              (a==b):\" , a == b)\n",
    "print (\"a ve b eşit değil mi?        (a!=b):\" , a != b)\n",
    "print (\"a b'den küçük mü?             (a<b):\" , a < b)\n",
    "print (\"a b'den büyük mü?             (a>b):\" , a > b)\n",
    "print (\"a b'den küçük ya da eşit mi? (a<=b):\" , a <= b)\n",
    "print (\"a b'den büyük ya da eşit mi? (a>=b):\" , a >= b)"
   ]
  },
  {
   "cell_type": "code",
   "execution_count": 60,
   "metadata": {},
   "outputs": [
    {
     "name": "stdout",
     "output_type": "stream",
     "text": [
      "32\n",
      "40.5\n",
      "Elma42\n"
     ]
    }
   ],
   "source": [
    "a = 42\n",
    "b = \"10\"\n",
    "c = \"1.5\"\n",
    "d = \"Elma\"\n",
    "\n",
    "print(a-int(b))\n",
    "print(a-float(c))\n",
    "print(d+str(a))"
   ]
  },
  {
   "cell_type": "code",
   "execution_count": null,
   "metadata": {},
   "outputs": [],
   "source": []
  }
 ],
 "metadata": {
  "kernelspec": {
   "display_name": "Python 3",
   "language": "python",
   "name": "python3"
  },
  "language_info": {
   "codemirror_mode": {
    "name": "ipython",
    "version": 3
   },
   "file_extension": ".py",
   "mimetype": "text/x-python",
   "name": "python",
   "nbconvert_exporter": "python",
   "pygments_lexer": "ipython3",
   "version": "3.7.3"
  }
 },
 "nbformat": 4,
 "nbformat_minor": 2
}
