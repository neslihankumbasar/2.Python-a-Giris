{
 "cells": [
  {
   "cell_type": "code",
   "execution_count": null,
   "metadata": {},
   "outputs": [],
   "source": [
    "### Soru 1 : \n",
    "## Seçeceğiniz herhangi bir şiiri bilgisayarına .txt dsyası olarak kaydedin. \n",
    "## Şiirin kaç dizeden oluştuğunu hesaplayın ve başka bir dosyaya her dizenin ilk kelimesini yazdırın."
   ]
  },
  {
   "cell_type": "code",
   "execution_count": 1,
   "metadata": {},
   "outputs": [
    {
     "name": "stdout",
     "output_type": "stream",
     "text": [
      "19\n"
     ]
    }
   ],
   "source": [
    "with open(\"C:/Users/neslihan.kumbasar/bootcamp/nazim.txt\", \"r\", encoding='utf8') as f:\n",
    "    n=f.readlines()\n",
    "    count=1\n",
    "    for i in range(1,len(n)):\n",
    "        count+=1\n",
    "        \n",
    "print(count)"
   ]
  },
  {
   "cell_type": "code",
   "execution_count": 2,
   "metadata": {},
   "outputs": [
    {
     "name": "stdout",
     "output_type": "stream",
     "text": [
      "Hoş\n",
      "Kesilmiş\n",
      "omuz\n",
      "Hoş\n",
      "Ayrılık\n",
      "Özledik.\n",
      "Gözledik...\n",
      "Hoş\n",
      "Biz\n",
      "bıraktığın\n",
      "Ustalaştık\n",
      "taşı\n",
      "dostu\n",
      "Hoş\n",
      "Yerin\n",
      "Hoş\n",
      "Dinleyip\n",
      "Fakat\n",
      "YÜRÜYELİM.....\n"
     ]
    }
   ],
   "source": [
    "f = open(\"C:/Users/neslihan.kumbasar/bootcamp/nazim_1.txt\", 'w', encoding='utf8')\n",
    "for line in n:\n",
    "    word=line.split()\n",
    "    print(word[0])  \n",
    "    f.write(word[0]) \n",
    "    f.write('\\n')"
   ]
  },
  {
   "cell_type": "code",
   "execution_count": 3,
   "metadata": {},
   "outputs": [],
   "source": [
    "### Soru 2: \n",
    "## Parametre olarak girilen bir sayının asal sayı olup olmadığını belirten bir fonksiyon yazın."
   ]
  },
  {
   "cell_type": "code",
   "execution_count": 4,
   "metadata": {},
   "outputs": [],
   "source": [
    "def asal_mi(x):\n",
    "    sayac=0    \n",
    "    for i in range(2,x):\n",
    "          if(x%i==0):\n",
    "            sayac+=1\n",
    "            break\n",
    "    if(sayac!=0):\n",
    "        print(x, \": Asal Değil\")\n",
    "    else:\n",
    "        print(x, \": Sayı Asal\")"
   ]
  },
  {
   "cell_type": "code",
   "execution_count": 5,
   "metadata": {},
   "outputs": [
    {
     "name": "stdout",
     "output_type": "stream",
     "text": [
      "97 : Sayı Asal\n"
     ]
    }
   ],
   "source": [
    "asal_mi(97)"
   ]
  },
  {
   "cell_type": "code",
   "execution_count": 6,
   "metadata": {},
   "outputs": [],
   "source": [
    "### Soru 3:\n",
    "## Parametre olarak girilecek listenin elemanlarını yeni bir listeye her değer sadece bir kere geçecek şekilde aktaran bir fonksiyon yazın. \n",
    "## Normalde bu işlemi set() komutu ile yapabiliriz ama bu seferlik bu komutu kullanmayalım.\n",
    "## Örnek : uniq_liste([1,2,2,3,3,4,4]) = [1,2,3,4]"
   ]
  },
  {
   "cell_type": "code",
   "execution_count": 33,
   "metadata": {},
   "outputs": [],
   "source": [
    "def uniq_liste(x):\n",
    "    liste=[]\n",
    "    for y in x:\n",
    "        if y not in liste:\n",
    "            liste.append(y) \n",
    "    return liste"
   ]
  },
  {
   "cell_type": "code",
   "execution_count": 34,
   "metadata": {},
   "outputs": [
    {
     "data": {
      "text/plain": [
       "[1, 2, 3, 4]"
      ]
     },
     "execution_count": 34,
     "metadata": {},
     "output_type": "execute_result"
    }
   ],
   "source": [
    "uniq_liste([1,2,2,3,3,4,4])"
   ]
  },
  {
   "cell_type": "code",
   "execution_count": 35,
   "metadata": {},
   "outputs": [],
   "source": [
    "### Soru 4:\n",
    "## Python'da hazır birçok modül bulunmaktadır. \n",
    "## Zaman ile ilgili modüllerden birisini import ederek, parametre olarak doğum tarihi alan ve yaşı döndüren bir fonksiyon yazınız."
   ]
  },
  {
   "cell_type": "code",
   "execution_count": 1,
   "metadata": {},
   "outputs": [
    {
     "name": "stdout",
     "output_type": "stream",
     "text": [
      "Yas : 34\n"
     ]
    }
   ],
   "source": [
    "from datetime import date\n",
    "def age(born):\n",
    "    today = date.today()\n",
    "    return today.year - born.year - ((today.month, today.day) < (born.month, born.day))\n",
    "\n",
    "print(\"Yas :\",age(date(1985,6,1)))"
   ]
  },
  {
   "cell_type": "code",
   "execution_count": null,
   "metadata": {},
   "outputs": [],
   "source": []
  }
 ],
 "metadata": {
  "kernelspec": {
   "display_name": "Python 3",
   "language": "python",
   "name": "python3"
  },
  "language_info": {
   "codemirror_mode": {
    "name": "ipython",
    "version": 3
   },
   "file_extension": ".py",
   "mimetype": "text/x-python",
   "name": "python",
   "nbconvert_exporter": "python",
   "pygments_lexer": "ipython3",
   "version": "3.7.3"
  }
 },
 "nbformat": 4,
 "nbformat_minor": 2
}
