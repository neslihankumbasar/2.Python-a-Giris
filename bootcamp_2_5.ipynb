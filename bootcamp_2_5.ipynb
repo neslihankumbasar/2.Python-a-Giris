{
 "cells": [
  {
   "cell_type": "code",
   "execution_count": 2,
   "metadata": {},
   "outputs": [],
   "source": [
    "f=open(\"davet.txt\",\"r\")\n",
    "f.close()"
   ]
  },
  {
   "cell_type": "code",
   "execution_count": 7,
   "metadata": {},
   "outputs": [
    {
     "name": "stdout",
     "output_type": "stream",
     "text": [
      "Dortnala gelip Uzak Asya'dan\n",
      "\n",
      "Akdeniz'e bir kisrak basi gibi uzanan\n",
      "\n",
      "Dortnala gelip Uzak Asya'dan\n",
      "\n",
      "30\n"
     ]
    }
   ],
   "source": [
    "with open(\"C:/Users/neslihan.kumbasar/bootcamp/davet.txt\", \"r\", encoding='utf8') as f:\n",
    "    \n",
    "    text_1 = f.read(29)  # ilk 29 karakteri okuyoruz.\n",
    "    \n",
    "    text_2 = f.read(38)   # sıradaki 38 karakteri okuyoruz.\n",
    "    \n",
    "    f.seek(0) # # kürsörü '0' no'lu yere getiriyoruz.    \n",
    "    \n",
    "    text_3=f.read(29) # Kürsör başa geldiğinden ilk 29 karakteri okuyoruz. \n",
    "    \n",
    "    position=f.tell()  # Kürsörün nerede olduğunu öğreniyoruz.\n",
    "\n",
    "print (text_1)\n",
    "print (text_2)\n",
    "print (text_3)\n",
    "print (position)"
   ]
  },
  {
   "cell_type": "code",
   "execution_count": 10,
   "metadata": {},
   "outputs": [
    {
     "name": "stdout",
     "output_type": "stream",
     "text": [
      "Dortnala gelip Uzak Asya'dan\n",
      "Akdeniz'e bir kisrak basi gibi uzanan\n",
      "bu memleket, bizim.\n",
      "\n",
      "Bilekler kan iinde, disler kenetli, ayaklar ciplak\n",
      "ve ipek bir haliya benziyen toprak,\n",
      "bu cehennem, bu cennet bizim.\n",
      "\n",
      "Kapansin el kapilari, bir daha acilmasin,\n",
      "yok edin insanin insana kullugunu,\n",
      "bu davet bizim....\n",
      "\n",
      "Yasamak bir aga gibi tek ve hr\n",
      "ve bir orman gibi kardescesine,\n",
      "bu hasret bizim...\n"
     ]
    }
   ],
   "source": [
    "with open(\"C:/Users/neslihan.kumbasar/bootcamp/davet.txt\", \"r\", encoding='utf8') as f:\n",
    "    line=f.read()\n",
    "print(line)"
   ]
  },
  {
   "cell_type": "code",
   "execution_count": 11,
   "metadata": {},
   "outputs": [
    {
     "name": "stdout",
     "output_type": "stream",
     "text": [
      "Dortnala gelip Uzak Asya'dan\n",
      "\n"
     ]
    }
   ],
   "source": [
    "with open(\"C:/Users/neslihan.kumbasar/bootcamp/davet.txt\", \"r\", encoding='utf8') as f:\n",
    "    line=f.readline()\n",
    "print(line)"
   ]
  },
  {
   "cell_type": "code",
   "execution_count": 14,
   "metadata": {},
   "outputs": [
    {
     "name": "stdout",
     "output_type": "stream",
     "text": [
      "[\"Akdeniz'e bir kisrak basi gibi uzanan\\n\", 'bu memleket, bizim.\\n', '\\n', 'Bilekler kan iinde, disler kenetli, ayaklar ciplak\\n', 've ipek bir haliya benziyen toprak,\\n', 'bu cehennem, bu cennet bizim.\\n', '\\n', 'Kapansin el kapilari, bir daha acilmasin,\\n', 'yok edin insanin insana kullugunu,\\n', 'bu davet bizim....\\n', '\\n', 'Yasamak bir aga gibi tek ve hr\\n', 've bir orman gibi kardescesine,\\n', 'bu hasret bizim...']\n"
     ]
    }
   ],
   "source": [
    "with open(\"C:/Users/neslihan.kumbasar/bootcamp/davet.txt\", \"r\", encoding='utf8') as f:\n",
    "    line=f.readline()\n",
    "    rest_of_line=f.readlines()\n",
    "print(rest_of_line)"
   ]
  },
  {
   "cell_type": "code",
   "execution_count": 16,
   "metadata": {},
   "outputs": [
    {
     "name": "stdout",
     "output_type": "stream",
     "text": [
      "[\"Dortnala gelip Uzak Asya'dan\\n\", \"Akdeniz'e bir kisrak basi gibi uzanan\\n\", 'bu memleket, bizim.\\n', '\\n', 'Bilekler kan iinde, disler kenetli, ayaklar ciplak\\n', 've ipek bir haliya benziyen toprak,\\n', 'bu cehennem, bu cennet bizim.\\n', '\\n', 'Kapansin el kapilari, bir daha acilmasin,\\n', 'yok edin insanin insana kullugunu,\\n', 'bu davet bizim....\\n', '\\n', 'Yasamak bir aga gibi tek ve hr\\n', 've bir orman gibi kardescesine,\\n', 'bu hasret bizim...']\n"
     ]
    }
   ],
   "source": [
    "with open(\"C:/Users/neslihan.kumbasar/bootcamp/davet.txt\", \"r\", encoding='utf8') as f:\n",
    "    lines=f.readlines()\n",
    "print(lines)"
   ]
  },
  {
   "cell_type": "code",
   "execution_count": 17,
   "metadata": {},
   "outputs": [],
   "source": [
    "with open(\"C:/Users/neslihan.kumbasar/bootcamp/sample_new.txt\", \"w\") as f:\n",
    "    f.write(\"This is line 1\\n\")\n",
    "    f.write(\"This is line 2\\n\")"
   ]
  },
  {
   "cell_type": "code",
   "execution_count": 19,
   "metadata": {},
   "outputs": [
    {
     "name": "stdout",
     "output_type": "stream",
     "text": [
      "This is line 1\n",
      "This is line 2\n",
      "\n"
     ]
    }
   ],
   "source": [
    "with open(\"C:/Users/neslihan.kumbasar/bootcamp/sample_new.txt\", \"r\") as f:\n",
    "    lines=f.read()\n",
    "print(lines)"
   ]
  },
  {
   "cell_type": "code",
   "execution_count": 22,
   "metadata": {},
   "outputs": [
    {
     "name": "stdout",
     "output_type": "stream",
     "text": [
      "This is line 1\n",
      "This is line 2\n",
      "This is line 3\n",
      "\n",
      "This is line 3\n",
      "\n"
     ]
    }
   ],
   "source": [
    "with open(\"C:/Users/neslihan.kumbasar/bootcamp/sample_new.txt\", \"a\") as f:\n",
    "    f.write(\"This is line 3\\n\")\n",
    "with open(\"C:/Users/neslihan.kumbasar/bootcamp/sample_new.txt\", \"r\") as f:\n",
    "    lines=f.read()  \n",
    "print(lines)    "
   ]
  },
  {
   "cell_type": "code",
   "execution_count": 30,
   "metadata": {},
   "outputs": [
    {
     "name": "stdout",
     "output_type": "stream",
     "text": [
      "Dortnala gelip Uzak Asya'dan\n",
      "\n",
      "Akdeniz'e bir kisrak basi gibi uzanan\n",
      "\n",
      "bu memleket, bizim.\n",
      "\n",
      "\n",
      "\n",
      "Bilekler kan iinde, disler kenetli, ayaklar ciplak\n",
      "\n",
      "ve ipek bir haliya benziyen toprak,\n",
      "\n",
      "bu cehennem, bu cennet bizim.\n",
      "\n",
      "\n",
      "\n",
      "Kapansin el kapilari, bir daha acilmasin,\n",
      "\n",
      "yok edin insanin insana kullugunu,\n",
      "\n",
      "bu davet bizim....\n",
      "\n",
      "\n",
      "\n",
      "Yasamak bir aga gibi tek ve hr\n",
      "\n",
      "ve bir orman gibi kardescesine,\n",
      "\n",
      "bu hasret bizim...\n",
      "\n"
     ]
    }
   ],
   "source": [
    "with open(\"C:/Users/neslihan.kumbasar/bootcamp/davet.txt\", \"r\",encoding='utf8') as f:\n",
    "    dizeler=f.readlines()\n",
    "f=open(\"C:/Users/neslihan.kumbasar/bootcamp/davet_duzenli.txt\", \"w\",encoding='utf8') \n",
    "for i in range(0,len(dizeler),3):\n",
    "    for j in range(3):\n",
    "        f.write(dizeler[i+j])\n",
    "    f.write('\\n')\n",
    "f.close() \n",
    "\n",
    "with open(\"C:/Users/neslihan.kumbasar/bootcamp/davet_duzenli.txt\", \"r\",encoding='utf8') as f:\n",
    "    dizeler=f.readlines()\n",
    "\n",
    "for dize in dizeler:\n",
    "    print(dize)    "
   ]
  },
  {
   "cell_type": "code",
   "execution_count": 31,
   "metadata": {},
   "outputs": [
    {
     "name": "stdout",
     "output_type": "stream",
     "text": [
      "4.5\n",
      "4.5\n"
     ]
    }
   ],
   "source": [
    "liste=[2.5 ,3,4,-5]\n",
    "toplam=0\n",
    "for i in liste:\n",
    "    toplam+=i\n",
    "print(toplam)\n",
    "\n",
    "print(sum(liste))\n",
    "    "
   ]
  },
  {
   "cell_type": "code",
   "execution_count": 32,
   "metadata": {},
   "outputs": [],
   "source": [
    "def hip(kenar_1, kenar_2):\n",
    "    hipotenus=((kenar_1)**2 + (kenar_2)**2)**0.5\n",
    "    return hipotenus"
   ]
  },
  {
   "cell_type": "code",
   "execution_count": 33,
   "metadata": {},
   "outputs": [
    {
     "name": "stdout",
     "output_type": "stream",
     "text": [
      "5.0\n",
      "10.0\n",
      "19.982242116439288\n"
     ]
    }
   ],
   "source": [
    "print(hip(3,4))\n",
    "print(hip(6,8))\n",
    "print(hip(10,17.3))"
   ]
  },
  {
   "cell_type": "code",
   "execution_count": 35,
   "metadata": {},
   "outputs": [
    {
     "data": {
      "text/plain": [
       "10.0"
      ]
     },
     "execution_count": 35,
     "metadata": {},
     "output_type": "execute_result"
    }
   ],
   "source": [
    "kenar_a=3\n",
    "kenar_b=4\n",
    "hip(kenar_a,kenar_b)*2"
   ]
  },
  {
   "cell_type": "code",
   "execution_count": 41,
   "metadata": {},
   "outputs": [
    {
     "name": "stdout",
     "output_type": "stream",
     "text": [
      "[0, 1, 4, 9, 16, 25, 36, 49, 64, 81, 100, 121, 144, 169, 196]\n"
     ]
    }
   ],
   "source": [
    "## girilen bir sayıdan küçük olan doğal sayıların karesini listeye aktaran bir fonksiyon yazalım\n",
    "def kucuk_kareler_listeye(x):\n",
    "    kucukler_listesi=[]\n",
    "    for y in range(x):\n",
    "        kucukler_listesi.append(y**2)\n",
    "    return kucukler_listesi   \n",
    "print(kucuk_kareler_listeye(15))   "
   ]
  },
  {
   "cell_type": "code",
   "execution_count": 43,
   "metadata": {},
   "outputs": [
    {
     "name": "stdout",
     "output_type": "stream",
     "text": [
      "[0, 1, 2, 3, 4, 5, 6, 7, 8, 9]\n"
     ]
    }
   ],
   "source": [
    "def kucukler_listeye(x):\n",
    "    kucukler_listeye=[y for y in range(x)]\n",
    "    return kucukler_listeye\n",
    "print(kucukler_listeye(10))"
   ]
  },
  {
   "cell_type": "code",
   "execution_count": 44,
   "metadata": {},
   "outputs": [
    {
     "name": "stdout",
     "output_type": "stream",
     "text": [
      "Merhaba, nasilsiniz?\n"
     ]
    }
   ],
   "source": [
    "def merhaba():\n",
    "    print(\"Merhaba, nasilsiniz?\")\n",
    "merhaba()    "
   ]
  },
  {
   "cell_type": "code",
   "execution_count": 46,
   "metadata": {},
   "outputs": [
    {
     "name": "stdout",
     "output_type": "stream",
     "text": [
      "Adiniz:nes\n",
      "Soyadiniz:kum\n",
      "Merhaba nes kum\n"
     ]
    }
   ],
   "source": [
    "def login_dic():\n",
    "    name=input(\"Adiniz:\")\n",
    "    surname=input(\"Soyadiniz:\")\n",
    "    print(\"Merhaba {} {}\".format(name,surname))\n",
    "login_dic()    "
   ]
  },
  {
   "cell_type": "code",
   "execution_count": 47,
   "metadata": {},
   "outputs": [],
   "source": [
    "def selamlama(ad,soyad,n=True,ln=True):\n",
    "    ad_soyad=\"\"\n",
    "    if n:\n",
    "        ad_soyad+=ad\n",
    "    if ln:\n",
    "        ad_soyad+=soyad\n",
    "    return \"Hello \"+ad_soyad"
   ]
  },
  {
   "cell_type": "code",
   "execution_count": 48,
   "metadata": {},
   "outputs": [
    {
     "data": {
      "text/plain": [
       "'Hello Ayşe'"
      ]
     },
     "execution_count": 48,
     "metadata": {},
     "output_type": "execute_result"
    }
   ],
   "source": [
    "selamlama(\"Ayşe\",\"Demir\",True,False)"
   ]
  },
  {
   "cell_type": "code",
   "execution_count": 49,
   "metadata": {},
   "outputs": [
    {
     "data": {
      "text/plain": [
       "'Hello AyşeDemir'"
      ]
     },
     "execution_count": 49,
     "metadata": {},
     "output_type": "execute_result"
    }
   ],
   "source": [
    "selamlama(\"Ayşe\",\"Demir\",True,True)"
   ]
  },
  {
   "cell_type": "code",
   "execution_count": 50,
   "metadata": {},
   "outputs": [
    {
     "data": {
      "text/plain": [
       "'Hello AyşeDemir'"
      ]
     },
     "execution_count": 50,
     "metadata": {},
     "output_type": "execute_result"
    }
   ],
   "source": [
    "selamlama(\"Ayşe\",\"Demir\")"
   ]
  },
  {
   "cell_type": "code",
   "execution_count": 52,
   "metadata": {},
   "outputs": [
    {
     "name": "stdout",
     "output_type": "stream",
     "text": [
      "True False\n"
     ]
    }
   ],
   "source": [
    "liste_1=[True,True,True,True]\n",
    "liste_2=[False,True,True,True]\n",
    "print(all(liste_1),all(liste_2))"
   ]
  },
  {
   "cell_type": "code",
   "execution_count": 53,
   "metadata": {},
   "outputs": [
    {
     "name": "stdout",
     "output_type": "stream",
     "text": [
      "False True\n"
     ]
    }
   ],
   "source": [
    "liste_1=[False,False,False,False]\n",
    "liste_2=[False,True,True,True]\n",
    "print(any(liste_1), any(liste_2))"
   ]
  },
  {
   "cell_type": "code",
   "execution_count": 54,
   "metadata": {},
   "outputs": [
    {
     "data": {
      "text/plain": [
       "[(0, 'kus'), (1, 'tavsan'), (2, 'kopek'), (3, 'kedi')]"
      ]
     },
     "execution_count": 54,
     "metadata": {},
     "output_type": "execute_result"
    }
   ],
   "source": [
    "hayvanlar=[\"kus\",\"tavsan\",\"kopek\",\"kedi\"]\n",
    "list(enumerate(hayvanlar))"
   ]
  },
  {
   "cell_type": "code",
   "execution_count": 57,
   "metadata": {},
   "outputs": [
    {
     "name": "stdout",
     "output_type": "stream",
     "text": [
      "Index : 0, Hayvan : kus\n",
      "Index : 1, Hayvan : tavsan\n",
      "Index : 2, Hayvan : kopek\n",
      "Index : 3, Hayvan : kedi\n"
     ]
    }
   ],
   "source": [
    "index=0\n",
    "for hayvan in hayvanlar:\n",
    "    print(\"Index : {}, Hayvan : {}\".format(index,hayvan))\n",
    "    index+=1"
   ]
  },
  {
   "cell_type": "code",
   "execution_count": 59,
   "metadata": {},
   "outputs": [
    {
     "name": "stdout",
     "output_type": "stream",
     "text": [
      "Index:0 , Hayvan: kus\n",
      "Index:1 , Hayvan: tavsan\n",
      "Index:2 , Hayvan: kopek\n",
      "Index:3 , Hayvan: kedi\n"
     ]
    }
   ],
   "source": [
    "for index,hayvan in enumerate(hayvanlar):\n",
    "    print(\"Index:{} , Hayvan: {}\".format(index,hayvan))"
   ]
  },
  {
   "cell_type": "code",
   "execution_count": 60,
   "metadata": {},
   "outputs": [
    {
     "data": {
      "text/plain": [
       "9"
      ]
     },
     "execution_count": 60,
     "metadata": {},
     "output_type": "execute_result"
    }
   ],
   "source": [
    "def square(x):\n",
    "    return x**2\n",
    "square(3)"
   ]
  },
  {
   "cell_type": "code",
   "execution_count": 61,
   "metadata": {},
   "outputs": [
    {
     "name": "stdout",
     "output_type": "stream",
     "text": [
      "9\n"
     ]
    }
   ],
   "source": [
    "lambda_square = lambda x: x**2\n",
    "print(lambda_square(3))"
   ]
  },
  {
   "cell_type": "code",
   "execution_count": 62,
   "metadata": {},
   "outputs": [
    {
     "name": "stdout",
     "output_type": "stream",
     "text": [
      "8\n"
     ]
    }
   ],
   "source": [
    "f= lambda x,y:x+y\n",
    "print(f(3,5))"
   ]
  },
  {
   "cell_type": "code",
   "execution_count": 64,
   "metadata": {},
   "outputs": [
    {
     "name": "stdout",
     "output_type": "stream",
     "text": [
      "35 tek sayi\n"
     ]
    }
   ],
   "source": [
    "is_even= lambda x: print(\"{} cift sayi\".format(x)) if x%2==0 else print(\"{} tek sayi\".format(x))\n",
    "is_even(35)"
   ]
  },
  {
   "cell_type": "code",
   "execution_count": 68,
   "metadata": {},
   "outputs": [
    {
     "data": {
      "text/plain": [
       "[0, 2, 4, 6, 8]"
      ]
     },
     "execution_count": 68,
     "metadata": {},
     "output_type": "execute_result"
    }
   ],
   "source": [
    "def cift_mi(x):\n",
    "    if x%2==0:\n",
    "        return True\n",
    "    else:\n",
    "        return False\n",
    "\n",
    "list(filter(cift_mi , range(0,10))) "
   ]
  },
  {
   "cell_type": "code",
   "execution_count": 70,
   "metadata": {},
   "outputs": [
    {
     "data": {
      "text/plain": [
       "[0, 2, 4, 6, 8]"
      ]
     },
     "execution_count": 70,
     "metadata": {},
     "output_type": "execute_result"
    }
   ],
   "source": [
    "list(filter (lambda x: True if x % 2==0 else False, range(0,10)))"
   ]
  },
  {
   "cell_type": "code",
   "execution_count": 73,
   "metadata": {},
   "outputs": [
    {
     "data": {
      "text/plain": [
       "[0, 2, 4, 6, 8, 10, 12, 14, 16, 18, 20, 22]"
      ]
     },
     "execution_count": 73,
     "metadata": {},
     "output_type": "execute_result"
    }
   ],
   "source": [
    "def cift_listele(x):\n",
    "    result=[]\n",
    "    for a in range(0,x):\n",
    "        if a%2==0:\n",
    "            result.append(a)\n",
    "    return result\n",
    "cift_listele(24)  "
   ]
  },
  {
   "cell_type": "code",
   "execution_count": 78,
   "metadata": {},
   "outputs": [
    {
     "data": {
      "text/plain": [
       "[0, 2, 4, 6, 8, 10, 12, 14, 16, 18, 20, 22]"
      ]
     },
     "execution_count": 78,
     "metadata": {},
     "output_type": "execute_result"
    }
   ],
   "source": [
    "list(filter((lambda x: x%2==0) , range(0,24)))"
   ]
  },
  {
   "cell_type": "code",
   "execution_count": 79,
   "metadata": {},
   "outputs": [
    {
     "data": {
      "text/plain": [
       "[1, 4, 9, 16, 25, 36, 49, 64, 81]"
      ]
     },
     "execution_count": 79,
     "metadata": {},
     "output_type": "execute_result"
    }
   ],
   "source": [
    "rakamlar=[1,2,3,4,5,6,7,8,9]\n",
    "def kare(x):\n",
    "    return x**2\n",
    "list(map(kare,rakamlar))"
   ]
  },
  {
   "cell_type": "code",
   "execution_count": 83,
   "metadata": {},
   "outputs": [
    {
     "data": {
      "text/plain": [
       "[1, 4, 9, 16, 25, 36, 49, 64, 81]"
      ]
     },
     "execution_count": 83,
     "metadata": {},
     "output_type": "execute_result"
    }
   ],
   "source": [
    "list(map((lambda x: x**2) ,rakamlar))"
   ]
  },
  {
   "cell_type": "code",
   "execution_count": 87,
   "metadata": {},
   "outputs": [
    {
     "name": "stdout",
     "output_type": "stream",
     "text": [
      "1 4 3 16 5 36 7 64 9 100 11 144 13 196 15 256 17 324 19 400 21 484 23\n"
     ]
    }
   ],
   "source": [
    "result= list(map((lambda x:x**2 if x%2==0 else x) , range(1,24)))\n",
    "print(*result)"
   ]
  },
  {
   "cell_type": "code",
   "execution_count": 90,
   "metadata": {},
   "outputs": [
    {
     "name": "stdout",
     "output_type": "stream",
     "text": [
      "Bir sayı girin   : nes\n",
      "Lütfen sadece sayı giriniz ! \n"
     ]
    }
   ],
   "source": [
    "try:\n",
    "    x=input(\"Bir sayı girin   : \")\n",
    "    print (x**x)\n",
    "except:\n",
    "    print (\"Lütfen sadece sayı giriniz ! \")"
   ]
  },
  {
   "cell_type": "code",
   "execution_count": 91,
   "metadata": {},
   "outputs": [
    {
     "name": "stdout",
     "output_type": "stream",
     "text": [
      "Bir sayı girin : nes\n",
      "'nes' yazdık ama kod çalışmaya devam ediyor\n"
     ]
    }
   ],
   "source": [
    "try:\n",
    "    x=input(\"Bir sayı girin : \")\n",
    "    print (x**x)\n",
    "except:\n",
    "    pass\n",
    "\n",
    "print (\"'{}' yazdık ama kod çalışmaya devam ediyor\".format(x))"
   ]
  },
  {
   "cell_type": "code",
   "execution_count": 92,
   "metadata": {},
   "outputs": [
    {
     "name": "stdout",
     "output_type": "stream",
     "text": [
      "'division by zero' hatası oluştu ! \n"
     ]
    }
   ],
   "source": [
    "try:\n",
    "    x=1/0\n",
    "except Exception as e:\n",
    "    print (\"'{}' hatası oluştu ! \".format(e))"
   ]
  },
  {
   "cell_type": "code",
   "execution_count": 1,
   "metadata": {},
   "outputs": [
    {
     "name": "stdout",
     "output_type": "stream",
     "text": [
      "Overwriting example.py\n"
     ]
    }
   ],
   "source": [
    "%%writefile example.py \n",
    "\n",
    "def make_list_in_range(x,y):\n",
    "    \n",
    "    new_list=[]\n",
    "    for a in range(x+1,y):\n",
    "        new_list.append(a)\n",
    "    \n",
    "    return new_list\n",
    "\n",
    "def make_list_of_even(x,y):\n",
    "    \n",
    "    new_list=[]\n",
    "    for a in range(x+1,y):\n",
    "        if a%2==0:\n",
    "            new_list.append(a)\n",
    "    \n",
    "    return new_list"
   ]
  },
  {
   "cell_type": "code",
   "execution_count": 2,
   "metadata": {},
   "outputs": [
    {
     "name": "stdout",
     "output_type": "stream",
     "text": [
      "'name 'make_list_in_range' is not defined' hatası oluştu ! \n"
     ]
    }
   ],
   "source": [
    "try:\n",
    "    make_list_in_range(1,34)\n",
    "except Exception as e:\n",
    "    print (\"'{}' hatası oluştu ! \".format(e))"
   ]
  },
  {
   "cell_type": "code",
   "execution_count": 7,
   "metadata": {},
   "outputs": [
    {
     "name": "stdout",
     "output_type": "stream",
     "text": [
      "[2, 3, 4, 5, 6, 7, 8, 9, 10, 11, 12, 13, 14, 15, 16, 17, 18, 19]\n"
     ]
    }
   ],
   "source": [
    "import example\n",
    "liste = example.make_list_in_range(1,20)\n",
    "print(liste)"
   ]
  },
  {
   "cell_type": "code",
   "execution_count": 8,
   "metadata": {},
   "outputs": [
    {
     "name": "stdout",
     "output_type": "stream",
     "text": [
      "[2, 3, 4]\n"
     ]
    }
   ],
   "source": [
    "from example import make_list_in_range\n",
    "print(make_list_in_range(1,5))"
   ]
  },
  {
   "cell_type": "code",
   "execution_count": 9,
   "metadata": {},
   "outputs": [
    {
     "name": "stdout",
     "output_type": "stream",
     "text": [
      "2 4\n"
     ]
    }
   ],
   "source": [
    "print (*example.make_list_of_even(1,5))"
   ]
  },
  {
   "cell_type": "code",
   "execution_count": 10,
   "metadata": {},
   "outputs": [
    {
     "name": "stdout",
     "output_type": "stream",
     "text": [
      "[2, 3, 4]\n"
     ]
    }
   ],
   "source": [
    "import example as ex\n",
    "print(ex.make_list_in_range(1,5))"
   ]
  },
  {
   "cell_type": "code",
   "execution_count": 11,
   "metadata": {},
   "outputs": [
    {
     "data": {
      "text/plain": [
       "2.0"
      ]
     },
     "execution_count": 11,
     "metadata": {},
     "output_type": "execute_result"
    }
   ],
   "source": [
    "import math\n",
    "math.sqrt(4)"
   ]
  },
  {
   "cell_type": "code",
   "execution_count": 12,
   "metadata": {},
   "outputs": [
    {
     "data": {
      "text/plain": [
       "2.0"
      ]
     },
     "execution_count": 12,
     "metadata": {},
     "output_type": "execute_result"
    }
   ],
   "source": [
    "from math import sqrt \n",
    "sqrt(4)"
   ]
  },
  {
   "cell_type": "code",
   "execution_count": 14,
   "metadata": {},
   "outputs": [
    {
     "data": {
      "text/plain": [
       "4"
      ]
     },
     "execution_count": 14,
     "metadata": {},
     "output_type": "execute_result"
    }
   ],
   "source": [
    "from math import*\n",
    "ceil(3.4)"
   ]
  },
  {
   "cell_type": "code",
   "execution_count": 15,
   "metadata": {},
   "outputs": [
    {
     "name": "stdout",
     "output_type": "stream",
     "text": [
      "['__doc__', '__loader__', '__name__', '__package__', '__spec__', 'acos', 'acosh', 'asin', 'asinh', 'atan', 'atan2', 'atanh', 'ceil', 'copysign', 'cos', 'cosh', 'degrees', 'e', 'erf', 'erfc', 'exp', 'expm1', 'fabs', 'factorial', 'floor', 'fmod', 'frexp', 'fsum', 'gamma', 'gcd', 'hypot', 'inf', 'isclose', 'isfinite', 'isinf', 'isnan', 'ldexp', 'lgamma', 'log', 'log10', 'log1p', 'log2', 'modf', 'nan', 'pi', 'pow', 'radians', 'remainder', 'sin', 'sinh', 'sqrt', 'tan', 'tanh', 'tau', 'trunc']\n",
      "['__builtins__', '__cached__', '__doc__', '__file__', '__loader__', '__name__', '__package__', '__spec__', 'make_list_in_range', 'make_list_of_even']\n"
     ]
    }
   ],
   "source": [
    "print(dir(math))\n",
    "print(dir(example))"
   ]
  },
  {
   "cell_type": "code",
   "execution_count": 17,
   "metadata": {},
   "outputs": [
    {
     "name": "stdout",
     "output_type": "stream",
     "text": [
      "Help on module example:\n",
      "\n",
      "NAME\n",
      "    example\n",
      "\n",
      "FUNCTIONS\n",
      "    make_list_in_range(x, y)\n",
      "    \n",
      "    make_list_of_even(x, y)\n",
      "\n",
      "FILE\n",
      "    c:\\users\\neslihan.kumbasar\\bootcamp\\example.py\n",
      "\n",
      "\n"
     ]
    }
   ],
   "source": [
    "help(example)"
   ]
  },
  {
   "cell_type": "code",
   "execution_count": null,
   "metadata": {},
   "outputs": [],
   "source": []
  }
 ],
 "metadata": {
  "kernelspec": {
   "display_name": "Python 3",
   "language": "python",
   "name": "python3"
  },
  "language_info": {
   "codemirror_mode": {
    "name": "ipython",
    "version": 3
   },
   "file_extension": ".py",
   "mimetype": "text/x-python",
   "name": "python",
   "nbconvert_exporter": "python",
   "pygments_lexer": "ipython3",
   "version": "3.7.3"
  }
 },
 "nbformat": 4,
 "nbformat_minor": 2
}
