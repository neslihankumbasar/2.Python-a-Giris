{
 "cells": [
  {
   "cell_type": "code",
   "execution_count": 1,
   "metadata": {},
   "outputs": [],
   "source": [
    "### Soru 1: \n",
    "## Kullanıcıdan Santigrat ya da Fahrenheit olarak sıcaklık değerini alacak ve diğer sıcaklık birimine çevirecek bir kod yazın. \n",
    "## Dönüşüm için C = (5/9) * (F - 32) formülünü kullanabilirsiniz.\n",
    "## Örnek : \"40C\" --> \"104F\"  , \"52F\" --> \"11.1\""
   ]
  },
  {
   "cell_type": "code",
   "execution_count": 20,
   "metadata": {},
   "outputs": [
    {
     "name": "stdout",
     "output_type": "stream",
     "text": [
      "Fahrenheit degeri giriniz:52\n",
      "52 F  ---->  11.11 \n",
      "\n",
      "Santigrat degeri giriniz:40\n",
      "40 C ---->  104.0\n"
     ]
    }
   ],
   "source": [
    "f= int(input(\"Fahrenheit degeri giriniz:\"))\n",
    "C = round((5/9)*(f-32),2)\n",
    "print( f, \"F  ----> \", C,\"\\n\")\n",
    "\n",
    "C=int(input(\"Santigrat degeri giriniz:\"))\n",
    "f= round( 9/5* C +32,2)\n",
    "print(C, \"C ----> \", f)"
   ]
  },
  {
   "cell_type": "code",
   "execution_count": 21,
   "metadata": {},
   "outputs": [],
   "source": [
    "### Soru 2: \n",
    "## Kullanıcının girdiği kelimeyi ters çeviren bir kod yazınız.\n",
    "## Örnek : \"otobüs\" --> \"süboto"
   ]
  },
  {
   "cell_type": "code",
   "execution_count": 34,
   "metadata": {},
   "outputs": [
    {
     "name": "stdout",
     "output_type": "stream",
     "text": [
      "Bir kelime giriniz:otobus\n",
      "suboto\n"
     ]
    }
   ],
   "source": [
    "kelime=input(\"Bir kelime giriniz:\")\n",
    "kelime \n",
    "print(kelime[::-1])"
   ]
  },
  {
   "cell_type": "code",
   "execution_count": 35,
   "metadata": {},
   "outputs": [],
   "source": [
    "### Soru 3: \n",
    "## 1'den 50'ye kadar olan Fibonacci sayılarından oluşan bir liste oluşturun. \n",
    "## İlk iki Fibonacci sayısı 1'dir. Sonraki sayılar, önceki iki sayının toplamıdır."
   ]
  },
  {
   "cell_type": "code",
   "execution_count": 38,
   "metadata": {},
   "outputs": [
    {
     "name": "stdout",
     "output_type": "stream",
     "text": [
      "1\n",
      "1\n",
      "2\n",
      "3\n",
      "5\n",
      "8\n",
      "13\n",
      "21\n",
      "34\n"
     ]
    }
   ],
   "source": [
    "x1=1\n",
    "x2=1\n",
    "print(x1)\n",
    "while x2<50:\n",
    "    print(x2)\n",
    "    x1,x2 = x2, x1+x2"
   ]
  },
  {
   "cell_type": "code",
   "execution_count": 39,
   "metadata": {},
   "outputs": [],
   "source": [
    "### Soru 4:\n",
    "## Girilen bir sayı için çarpım tablosunu yazdırın"
   ]
  },
  {
   "cell_type": "code",
   "execution_count": 43,
   "metadata": {},
   "outputs": [
    {
     "name": "stdout",
     "output_type": "stream",
     "text": [
      "Bir sayi giriniz:6\n",
      "6 * 1 = 6\n",
      "6 * 2 = 12\n",
      "6 * 3 = 18\n",
      "6 * 4 = 24\n",
      "6 * 5 = 30\n",
      "6 * 6 = 36\n",
      "6 * 7 = 42\n",
      "6 * 8 = 48\n",
      "6 * 9 = 54\n",
      "6 * 10 = 60\n"
     ]
    }
   ],
   "source": [
    "sayi= int(input(\"Bir sayi giriniz:\"))\n",
    "sayi\n",
    "for i in range(1,11):\n",
    "    print(sayi ,\"*\",i,\"=\", i*sayi)"
   ]
  },
  {
   "cell_type": "code",
   "execution_count": 44,
   "metadata": {},
   "outputs": [],
   "source": [
    "### Soru 5: \n",
    "## List comprehension kullanarak, 1'den 20'ye kadar tek sayıların karesini, çift sayıların küpünü içeren bir liste oluşturun."
   ]
  },
  {
   "cell_type": "code",
   "execution_count": 51,
   "metadata": {},
   "outputs": [
    {
     "name": "stdout",
     "output_type": "stream",
     "text": [
      "[1, 4, 27, 16, 125, 36, 343, 64, 729, 100, 1331, 144, 2197, 196, 3375, 256, 4913, 324, 6859, 400]\n"
     ]
    }
   ],
   "source": [
    "print([i**2 if i%2==0 else i**3 for i in range(1,21)])"
   ]
  },
  {
   "cell_type": "code",
   "execution_count": null,
   "metadata": {},
   "outputs": [],
   "source": []
  }
 ],
 "metadata": {
  "kernelspec": {
   "display_name": "Python 3",
   "language": "python",
   "name": "python3"
  },
  "language_info": {
   "codemirror_mode": {
    "name": "ipython",
    "version": 3
   },
   "file_extension": ".py",
   "mimetype": "text/x-python",
   "name": "python",
   "nbconvert_exporter": "python",
   "pygments_lexer": "ipython3",
   "version": "3.7.3"
  }
 },
 "nbformat": 4,
 "nbformat_minor": 2
}
